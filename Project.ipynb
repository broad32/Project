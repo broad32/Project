{
 "cells": [
  {
   "cell_type": "markdown",
   "metadata": {},
   "source": [
    "# Beating Airbnb: Predicting New User Bookings"
   ]
  },
  {
   "cell_type": "markdown",
   "metadata": {},
   "source": [
    "## Team Members\n",
    "\n",
    "- Alex Fabiano \n",
    "- Michael Clawson\n",
    "- Elijah Broadbent "
   ]
  },
  {
   "cell_type": "markdown",
   "metadata": {},
   "source": [
    "\n",
    "## Problem Statement\n",
    "\n",
    "\n",
    "\n",
    "With 34,000+ cities across 190+ countries, Airbnb users have a multitude of destinations from which to choose.  This vast array of possibilities creates problems for both users and Airbnb. New users may suffer choice overload and prolong their first booking. Irregular and prolonged first bookings can cause demand lags and inhibit demand predictability for Airbnb.\n",
    "\t\n",
    "The goal of this data project is to accurately predict where new users will book their first Airbnb. This will enable Airbnb to share more personalized content and better forecast demand as well as improve user experience.\n"
   ]
  },
  {
   "cell_type": "markdown",
   "metadata": {},
   "source": [
    "## Strategy\n",
    "\n",
    "After merging our data and doing a minimal amount of initial cleaning, we will use a K-Neighbors Classifier to get a naive baseline for our classification problem. From there we will modify our cleaning as needed to account for outliers, missing data, and optimal control variables in a more robust fashion. Other models we plan to consult include Random Forest, regression, and Gradient Boosting. Depending on the results we obtain from these methods we can complicate our approach using tiered-ensembles of multiple models.  Without further ado, let's take a look at our data."
   ]
  },
  {
   "cell_type": "markdown",
   "metadata": {},
   "source": [
    "## Data"
   ]
  },
  {
   "cell_type": "code",
   "execution_count": 53,
   "metadata": {
    "collapsed": true,
    "scrolled": false
   },
   "outputs": [],
   "source": [
    "import pandas as pd\n",
    "import numpy as np\n",
    "import seaborn as sns\n",
    "from matplotlib import pyplot as plt\n",
    "%matplotlib inline\n",
    "from sklearn.model_selection import GridSearchCV, train_test_split\n",
    "from sklearn.preprocessing import StandardScaler\n",
    "from sklearn.neighbors import KNeighborsClassifier\n",
    "from sklearn.ensemble import RandomForestClassifier\n",
    "import xgboost as xgb\n",
    "from sklearn import metrics\n",
    "import pytz\n",
    "import datetime\n",
    "import calendar\n",
    "# from sklearn.metrics import f1_score, classification_report, accuracy_score, make_scorer\n",
    "plt.rcParams['figure.figsize'] = [10,8]"
   ]
  },
  {
   "cell_type": "markdown",
   "metadata": {},
   "source": [
    "Include reasoning for leaving out the countries, sessions, and age_gender_buckets, or remove entirely. Only we know they were there in the first place."
   ]
  },
  {
   "cell_type": "code",
   "execution_count": 3,
   "metadata": {
    "collapsed": true,
    "scrolled": false
   },
   "outputs": [],
   "source": [
    "test = pd.read_csv('test_users.csv')\n",
    "users = pd.read_csv('train_users_2.csv')"
   ]
  },
  {
   "cell_type": "markdown",
   "metadata": {},
   "source": [
    "Let's read in our user set:"
   ]
  },
  {
   "cell_type": "code",
   "execution_count": 4,
   "metadata": {
    "scrolled": false
   },
   "outputs": [
    {
     "data": {
      "text/html": [
       "<div>\n",
       "<style>\n",
       "    .dataframe thead tr:only-child th {\n",
       "        text-align: right;\n",
       "    }\n",
       "\n",
       "    .dataframe thead th {\n",
       "        text-align: left;\n",
       "    }\n",
       "\n",
       "    .dataframe tbody tr th {\n",
       "        vertical-align: top;\n",
       "    }\n",
       "</style>\n",
       "<table border=\"1\" class=\"dataframe\">\n",
       "  <thead>\n",
       "    <tr style=\"text-align: right;\">\n",
       "      <th></th>\n",
       "      <th>id</th>\n",
       "      <th>date_account_created</th>\n",
       "      <th>timestamp_first_active</th>\n",
       "      <th>date_first_booking</th>\n",
       "      <th>gender</th>\n",
       "      <th>age</th>\n",
       "      <th>signup_method</th>\n",
       "      <th>signup_flow</th>\n",
       "      <th>language</th>\n",
       "      <th>affiliate_channel</th>\n",
       "      <th>affiliate_provider</th>\n",
       "      <th>first_affiliate_tracked</th>\n",
       "      <th>signup_app</th>\n",
       "      <th>first_device_type</th>\n",
       "      <th>first_browser</th>\n",
       "      <th>country_destination</th>\n",
       "    </tr>\n",
       "  </thead>\n",
       "  <tbody>\n",
       "    <tr>\n",
       "      <th>0</th>\n",
       "      <td>gxn3p5htnn</td>\n",
       "      <td>2010-06-28</td>\n",
       "      <td>20090319043255</td>\n",
       "      <td>NaN</td>\n",
       "      <td>-unknown-</td>\n",
       "      <td>NaN</td>\n",
       "      <td>facebook</td>\n",
       "      <td>0</td>\n",
       "      <td>en</td>\n",
       "      <td>direct</td>\n",
       "      <td>direct</td>\n",
       "      <td>untracked</td>\n",
       "      <td>Web</td>\n",
       "      <td>Mac Desktop</td>\n",
       "      <td>Chrome</td>\n",
       "      <td>NDF</td>\n",
       "    </tr>\n",
       "    <tr>\n",
       "      <th>1</th>\n",
       "      <td>820tgsjxq7</td>\n",
       "      <td>2011-05-25</td>\n",
       "      <td>20090523174809</td>\n",
       "      <td>NaN</td>\n",
       "      <td>MALE</td>\n",
       "      <td>38.0</td>\n",
       "      <td>facebook</td>\n",
       "      <td>0</td>\n",
       "      <td>en</td>\n",
       "      <td>seo</td>\n",
       "      <td>google</td>\n",
       "      <td>untracked</td>\n",
       "      <td>Web</td>\n",
       "      <td>Mac Desktop</td>\n",
       "      <td>Chrome</td>\n",
       "      <td>NDF</td>\n",
       "    </tr>\n",
       "    <tr>\n",
       "      <th>2</th>\n",
       "      <td>4ft3gnwmtx</td>\n",
       "      <td>2010-09-28</td>\n",
       "      <td>20090609231247</td>\n",
       "      <td>2010-08-02</td>\n",
       "      <td>FEMALE</td>\n",
       "      <td>56.0</td>\n",
       "      <td>basic</td>\n",
       "      <td>3</td>\n",
       "      <td>en</td>\n",
       "      <td>direct</td>\n",
       "      <td>direct</td>\n",
       "      <td>untracked</td>\n",
       "      <td>Web</td>\n",
       "      <td>Windows Desktop</td>\n",
       "      <td>IE</td>\n",
       "      <td>US</td>\n",
       "    </tr>\n",
       "    <tr>\n",
       "      <th>3</th>\n",
       "      <td>bjjt8pjhuk</td>\n",
       "      <td>2011-12-05</td>\n",
       "      <td>20091031060129</td>\n",
       "      <td>2012-09-08</td>\n",
       "      <td>FEMALE</td>\n",
       "      <td>42.0</td>\n",
       "      <td>facebook</td>\n",
       "      <td>0</td>\n",
       "      <td>en</td>\n",
       "      <td>direct</td>\n",
       "      <td>direct</td>\n",
       "      <td>untracked</td>\n",
       "      <td>Web</td>\n",
       "      <td>Mac Desktop</td>\n",
       "      <td>Firefox</td>\n",
       "      <td>other</td>\n",
       "    </tr>\n",
       "    <tr>\n",
       "      <th>4</th>\n",
       "      <td>87mebub9p4</td>\n",
       "      <td>2010-09-14</td>\n",
       "      <td>20091208061105</td>\n",
       "      <td>2010-02-18</td>\n",
       "      <td>-unknown-</td>\n",
       "      <td>41.0</td>\n",
       "      <td>basic</td>\n",
       "      <td>0</td>\n",
       "      <td>en</td>\n",
       "      <td>direct</td>\n",
       "      <td>direct</td>\n",
       "      <td>untracked</td>\n",
       "      <td>Web</td>\n",
       "      <td>Mac Desktop</td>\n",
       "      <td>Chrome</td>\n",
       "      <td>US</td>\n",
       "    </tr>\n",
       "  </tbody>\n",
       "</table>\n",
       "</div>"
      ],
      "text/plain": [
       "           id date_account_created  timestamp_first_active date_first_booking  \\\n",
       "0  gxn3p5htnn           2010-06-28          20090319043255                NaN   \n",
       "1  820tgsjxq7           2011-05-25          20090523174809                NaN   \n",
       "2  4ft3gnwmtx           2010-09-28          20090609231247         2010-08-02   \n",
       "3  bjjt8pjhuk           2011-12-05          20091031060129         2012-09-08   \n",
       "4  87mebub9p4           2010-09-14          20091208061105         2010-02-18   \n",
       "\n",
       "      gender   age signup_method  signup_flow language affiliate_channel  \\\n",
       "0  -unknown-   NaN      facebook            0       en            direct   \n",
       "1       MALE  38.0      facebook            0       en               seo   \n",
       "2     FEMALE  56.0         basic            3       en            direct   \n",
       "3     FEMALE  42.0      facebook            0       en            direct   \n",
       "4  -unknown-  41.0         basic            0       en            direct   \n",
       "\n",
       "  affiliate_provider first_affiliate_tracked signup_app first_device_type  \\\n",
       "0             direct               untracked        Web       Mac Desktop   \n",
       "1             google               untracked        Web       Mac Desktop   \n",
       "2             direct               untracked        Web   Windows Desktop   \n",
       "3             direct               untracked        Web       Mac Desktop   \n",
       "4             direct               untracked        Web       Mac Desktop   \n",
       "\n",
       "  first_browser country_destination  \n",
       "0        Chrome                 NDF  \n",
       "1        Chrome                 NDF  \n",
       "2            IE                  US  \n",
       "3       Firefox               other  \n",
       "4        Chrome                  US  "
      ]
     },
     "execution_count": 4,
     "metadata": {},
     "output_type": "execute_result"
    }
   ],
   "source": [
    "users.head()"
   ]
  },
  {
   "cell_type": "code",
   "execution_count": 7,
   "metadata": {
    "scrolled": false
   },
   "outputs": [
    {
     "data": {
      "text/plain": [
       "Text(0,0.5,'Signup Flow')"
      ]
     },
     "execution_count": 7,
     "metadata": {},
     "output_type": "execute_result"
    },
    {
     "data": {
      "image/png": "[encoded data removed]",
      "text/plain": [
       "<matplotlib.figure.Figure at 0x11187a668>"
      ]
     },
     "metadata": {},
     "output_type": "display_data"
    }
   ],
   "source": [
    "ax = sns.barplot(x=\"country_destination\", y=\"signup_flow\", data=users, estimator=lambda x: len(x) / len(users) * 100)\n",
    "plt.title(\"Booking Frequency by Destination\", fontsize=18, fontweight='bold')\n",
    "plt.xlabel(\"Country Destination\",fontsize=14)\n",
    "plt.ylabel(\"Signup Flow\", fontsize=14)\n",
    "#Here I pass 'signup_flow as my y variable simply because it is a numeric variable.  \n",
    "#This allows me to normalize the barchart for country_destination counts and checks out with the percentage values \n",
    "#obtained from our value_counts command in a previous version."
   ]
  },
  {
   "cell_type": "markdown",
   "metadata": {},
   "source": [
    "NDF stands for No Destination Finalized.  It appears that nearly 60% of the domestic users in our data set ultimately exit the browsing session without making a booking.  Of the users who do book, the majority choose to visit other locations within the United States.  To predict what bookings users will make, we will first create a model designed to predict whether a user will end up booking a destination at all."
   ]
  },
  {
   "cell_type": "markdown",
   "metadata": {},
   "source": [
    "**Make Train/Test Split for Binary Classification Model**"
   ]
  },
  {
   "cell_type": "code",
   "execution_count": 8,
   "metadata": {
    "collapsed": true,
    "scrolled": false
   },
   "outputs": [],
   "source": [
    "#Create variable for whether a user booked at all\n",
    "users['Booked?'] = np.where(users['date_first_booking'].isnull(), 0, 1) \n",
    "target = users['Booked?']\n",
    "target2 = users['country_destination']\n",
    "xtrain, xtest, ytrain, ytest = train_test_split(users.copy(), target, test_size=0.2, random_state=42)"
   ]
  },
  {
   "cell_type": "markdown",
   "metadata": {
    "collapsed": true
   },
   "source": [
    "By splitting training data into two pieces we will be able to train our model to run properly on the first piece and then test it on the second to gauge how our model performs out of sample.  We can now inspect the training split more closely to prepare it for analysis."
   ]
  },
  {
   "cell_type": "markdown",
   "metadata": {},
   "source": [
    "## Data Cleaning and Feature Engineering"
   ]
  },
  {
   "cell_type": "markdown",
   "metadata": {},
   "source": [
    "Let's take a look our data types:"
   ]
  },
  {
   "cell_type": "code",
   "execution_count": 9,
   "metadata": {
    "scrolled": false
   },
   "outputs": [
    {
     "data": {
      "text/plain": [
       "id                          object\n",
       "date_account_created        object\n",
       "timestamp_first_active       int64\n",
       "date_first_booking          object\n",
       "gender                      object\n",
       "age                        float64\n",
       "signup_method               object\n",
       "signup_flow                  int64\n",
       "language                    object\n",
       "affiliate_channel           object\n",
       "affiliate_provider          object\n",
       "first_affiliate_tracked     object\n",
       "signup_app                  object\n",
       "first_device_type           object\n",
       "first_browser               object\n",
       "country_destination         object\n",
       "Booked?                      int64\n",
       "dtype: object"
      ]
     },
     "execution_count": 9,
     "metadata": {},
     "output_type": "execute_result"
    }
   ],
   "source": [
    "xtrain.dtypes"
   ]
  },
  {
   "cell_type": "markdown",
   "metadata": {},
   "source": [
    "We have a lot of object types in our data that will need to be transformed if we choose to use them.  Let's set aside the variables we want to drop and the ones we want to convert into dummy variables."
   ]
  },
  {
   "cell_type": "code",
   "execution_count": 10,
   "metadata": {
    "collapsed": true,
    "scrolled": false
   },
   "outputs": [],
   "source": [
    "# Create drop and dummy arrays\n",
    "drop = []\n",
    "dummies = []"
   ]
  },
  {
   "cell_type": "code",
   "execution_count": 11,
   "metadata": {
    "scrolled": false
   },
   "outputs": [
    {
     "name": "stdout",
     "output_type": "stream",
     "text": [
      "Columns\t\t\t % Null\n"
     ]
    },
    {
     "data": {
      "text/plain": [
       "date_first_booking         0.583860\n",
       "age                        0.412573\n",
       "first_affiliate_tracked    0.028789\n",
       "dtype: float64"
      ]
     },
     "execution_count": 11,
     "metadata": {},
     "output_type": "execute_result"
    }
   ],
   "source": [
    "# Displays the columns with null values and the percent of null values for each column\n",
    "print(\"Columns\\t\\t\\t % Null\")\n",
    "xtrain[xtrain.columns[xtrain.isnull().any()]].isnull().sum()/len(xtrain)"
   ]
  },
  {
   "cell_type": "markdown",
   "metadata": {},
   "source": [
    "Date of booking null values indicate that no booking was ever made, so a high proportion of nulls in this category is no surprise. Age is the only glaring null-value issue with the data, as over 30% of values are missing. We may be able to find a way to fill these values with the average age conditional on the users other observable characteristics; e.g. female mac owners who use chrome."
   ]
  },
  {
   "cell_type": "code",
   "execution_count": 12,
   "metadata": {
    "collapsed": true,
    "scrolled": false
   },
   "outputs": [],
   "source": [
    "drop.extend(['Booked?','country_destination','id','date_first_booking'])"
   ]
  },
  {
   "cell_type": "markdown",
   "metadata": {},
   "source": [
    "Let's inspect each of these features, one by one."
   ]
  },
  {
   "cell_type": "markdown",
   "metadata": {},
   "source": [
    "**Date Account Created**"
   ]
  },
  {
   "cell_type": "code",
   "execution_count": 15,
   "metadata": {
    "scrolled": false
   },
   "outputs": [
    {
     "data": {
      "text/plain": [
       "139642    2014-01-09\n",
       "519       2010-05-04\n",
       "120664    2013-10-30\n",
       "84733     2013-06-18\n",
       "183255    2014-05-01\n",
       "Name: date_account_created, dtype: object"
      ]
     },
     "execution_count": 15,
     "metadata": {},
     "output_type": "execute_result"
    }
   ],
   "source": [
    "xtrain.date_account_created.head()# Need to extract usable variables"
   ]
  },
  {
   "cell_type": "markdown",
   "metadata": {},
   "source": [
    "We need to convert this variable into a date time so that we can extract the relevant information we need for analysis.  We will then create quantitative variables corresponding to year, month, and day of the week."
   ]
  },
  {
   "cell_type": "code",
   "execution_count": 16,
   "metadata": {
    "collapsed": true,
    "scrolled": false
   },
   "outputs": [],
   "source": [
    "xtrain.date_account_created = pd.to_datetime(xtrain.date_account_created) #Casts object as datetime\n",
    "xtest.date_account_created = pd.to_datetime(xtest.date_account_created)\n",
    "test.date_account_created = pd.to_datetime(test.date_account_created)"
   ]
  },
  {
   "cell_type": "code",
   "execution_count": 17,
   "metadata": {
    "collapsed": true,
    "scrolled": false
   },
   "outputs": [],
   "source": [
    "# Create indicators for day of week (0=Mon, 6=Sun) account was created\n",
    "xtrain['day_of_week_created'] = xtrain.date_account_created.dt.weekday\n",
    "xtest['day_of_week_created'] = xtest.date_account_created.dt.weekday\n",
    "test['day_of_week_created'] = test.date_account_created.dt.weekday\n",
    "# Create indicators for day of month (0 through 31), month (0 through 12), and year account created\n",
    "xtrain['day_of_month_created'] = xtrain['date_account_created'].dt.day\n",
    "xtest['day_of_month_created'] = xtest['date_account_created'].dt.day\n",
    "test['day_of_month_created'] = test['date_account_created'].dt.day\n",
    "xtrain['month_created'] = xtrain['date_account_created'].dt.month\n",
    "xtest['month_created'] = xtest['date_account_created'].dt.month\n",
    "test['month_created'] = test['date_account_created'].dt.month\n",
    "xtrain['year_created'] = xtrain['date_account_created'].dt.year\n",
    "xtest['year_created'] = xtest['date_account_created'].dt.year\n",
    "test['year_created'] = test['date_account_created'].dt.year"
   ]
  },
  {
   "cell_type": "markdown",
   "metadata": {},
   "source": [
    "In addition to deconstructing the date_account_created variable, we created a variable that measures how old the account is relative to the others. This is done by subtracting date_account_created by a new variable called \"today.\" Afterwards, these variables are added either to the dummy or the drop list."
   ]
  },
  {
   "cell_type": "code",
   "execution_count": 83,
   "metadata": {},
   "outputs": [
    {
     "data": {
      "image/png": "[encoded data removed]",
      "text/plain": [
       "<matplotlib.figure.Figure at 0x1a2b7acb38>"
      ]
     },
     "metadata": {},
     "output_type": "display_data"
    }
   ],
   "source": [
    "plt.figure(figsize=(15,6))\n",
    "plt.subplot(1,2,1)\n",
    "xtrain.day_of_week_created.value_counts(normalize=1).sort_index().plot(kind='bar',x=[0,1,2,3,4,5,6],color='#16A085')\n",
    "plt.title('Day of Week Account Created', fontsize=16,fontweight='bold')\n",
    "plt.xticks(np.arange(0,7,1),['Mon','Tues','Wed','Thurs','Fri','Sat','Sun'], rotation=0, fontsize=14)\n",
    "plt.ylabel('Frequency',fontsize=14)\n",
    "plt.subplot(1,2,2)\n",
    "xtrain.month_created.value_counts(normalize=1).sort_index().plot(kind='bar',x=np.arange(0,12,1))\n",
    "plt.title('Month Created',fontsize=16,fontweight='bold')\n",
    "plt.xticks(np.arange(0,12,1), calendar.month_abbr[1:],rotation=0,fontsize=14)\n",
    "plt.ylabel('Frequency',fontsize=14)\n",
    "plt.show()"
   ]
  },
  {
   "cell_type": "code",
   "execution_count": 155,
   "metadata": {
    "collapsed": true,
    "scrolled": false
   },
   "outputs": [],
   "source": [
    "drop.append('date_account_created')\n",
    "dummies.extend(['day_of_week_created','month_created'])"
   ]
  },
  {
   "cell_type": "code",
   "execution_count": 156,
   "metadata": {
    "scrolled": false
   },
   "outputs": [
    {
     "ename": "NameError",
     "evalue": "name 'datetime' is not defined",
     "output_type": "error",
     "traceback": [
      "\u001b[0;31m---------------------------------------------------------------------------\u001b[0m",
      "\u001b[0;31mNameError\u001b[0m                                 Traceback (most recent call last)",
      "\u001b[0;32m<ipython-input-156-99f77d59bdd4>\u001b[0m in \u001b[0;36m<module>\u001b[0;34m()\u001b[0m\n\u001b[1;32m      1\u001b[0m \u001b[0;31m#create a today variable, which we will turn into a datetime and subtract from our date_account_created var\u001b[0m\u001b[0;34m\u001b[0m\u001b[0;34m\u001b[0m\u001b[0m\n\u001b[0;32m----> 2\u001b[0;31m \u001b[0mxtrain\u001b[0m\u001b[0;34m[\u001b[0m\u001b[0;34m'today'\u001b[0m\u001b[0;34m]\u001b[0m \u001b[0;34m=\u001b[0m \u001b[0mdatetime\u001b[0m\u001b[0;34m.\u001b[0m\u001b[0mdate\u001b[0m\u001b[0;34m.\u001b[0m\u001b[0mtoday\u001b[0m\u001b[0;34m(\u001b[0m\u001b[0;34m)\u001b[0m\u001b[0;34m\u001b[0m\u001b[0m\n\u001b[0m\u001b[1;32m      3\u001b[0m \u001b[0mxtest\u001b[0m\u001b[0;34m[\u001b[0m\u001b[0;34m'today'\u001b[0m\u001b[0;34m]\u001b[0m \u001b[0;34m=\u001b[0m \u001b[0mdatetime\u001b[0m\u001b[0;34m.\u001b[0m\u001b[0mdate\u001b[0m\u001b[0;34m.\u001b[0m\u001b[0mtoday\u001b[0m\u001b[0;34m(\u001b[0m\u001b[0;34m)\u001b[0m\u001b[0;34m\u001b[0m\u001b[0m\n\u001b[1;32m      4\u001b[0m \u001b[0mtest\u001b[0m\u001b[0;34m[\u001b[0m\u001b[0;34m'today'\u001b[0m\u001b[0;34m]\u001b[0m \u001b[0;34m=\u001b[0m \u001b[0mdatetime\u001b[0m\u001b[0;34m.\u001b[0m\u001b[0mdate\u001b[0m\u001b[0;34m.\u001b[0m\u001b[0mtoday\u001b[0m\u001b[0;34m(\u001b[0m\u001b[0;34m)\u001b[0m\u001b[0;34m\u001b[0m\u001b[0m\n\u001b[1;32m      5\u001b[0m \u001b[0mxtrain\u001b[0m\u001b[0;34m.\u001b[0m\u001b[0mtoday\u001b[0m \u001b[0;34m=\u001b[0m \u001b[0mpd\u001b[0m\u001b[0;34m.\u001b[0m\u001b[0mto_datetime\u001b[0m\u001b[0;34m(\u001b[0m\u001b[0mxtrain\u001b[0m\u001b[0;34m.\u001b[0m\u001b[0mtoday\u001b[0m\u001b[0;34m)\u001b[0m\u001b[0;34m\u001b[0m\u001b[0m\n",
      "\u001b[0;31mNameError\u001b[0m: name 'datetime' is not defined"
     ]
    }
   ],
   "source": [
    "#create a today variable, which we will turn into a datetime and subtract from our date_account_created var\n",
    "xtrain['today'] = datetime.date.today()\n",
    "xtest['today'] = datetime.date.today()\n",
    "test['today'] = datetime.date.today()\n",
    "xtrain.today = pd.to_datetime(xtrain.today)\n",
    "xtest.today = pd.to_datetime(xtest.today)\n",
    "test.today = pd.to_datetime(test.today)\n",
    "\n",
    "#subtract today from date_account_created to get account_life\n",
    "xtrain['account_life'] = xtrain['today'].sub(xtrain['date_account_created'], axis=0)\n",
    "xtest['account_life'] = xtest['today'].sub(xtest['date_account_created'], axis=0)\n",
    "test['account_life'] = test['today'].sub(test['date_account_created'], axis=0)\n",
    "\n",
    "#assign account_life var to 5 equal bins, will be created when it is appended to the dummy dataframe.\n",
    "xtrain['account_life_bins'] = pd.qcut(xtrain['account_life'], 5, labels=False)\n",
    "xtest['account_life_bins'] = pd.qcut(xtest['account_life'], 5, labels=False)\n",
    "test['account_life_bins'] = pd.qcut(test['account_life'], 5, labels=False)\n",
    "\n",
    "#appending to dummies df\n",
    "dummies.append('account_life_bins')\n",
    "#drop unnecessary columns\n",
    "drop.extend(['today','account_life','date_account_created'])"
   ]
  },
  {
   "cell_type": "code",
   "execution_count": 402,
   "metadata": {
    "collapsed": true
   },
   "outputs": [],
   "source": [
    "**Gender**"
   ]
  },
  {
   "cell_type": "code",
   "execution_count": 157,
   "metadata": {
    "scrolled": false
   },
   "outputs": [
    {
     "data": {
      "text/plain": [
       "<matplotlib.text.Text at 0x123d19a90>"
      ]
     },
     "execution_count": 157,
     "metadata": {},
     "output_type": "execute_result"
    },
    {
     "data": {
      "image/png": "[encoded data removed]",
      "text/plain": [
       "<matplotlib.figure.Figure at 0x1202ef5c0>"
      ]
     },
     "metadata": {},
     "output_type": "display_data"
    }
   ],
   "source": [
    "xtrain['gender'].value_counts(normalize=True, dropna=False).plot(kind='bar', color=['gray','pink','#4682B4','red'])\n",
    "plt.title('User Gender', fontsize=14)\n",
    "plt.xlabel('Gender', fontsize=12)\n",
    "plt.ylabel('Proportion', fontsize=12)"
   ]
  },
  {
   "cell_type": "markdown",
   "metadata": {},
   "source": [
    "Unknown should be kept as a variable, and should not try to fill, given that it is very likely that the model will see unknown genders in the test set. "
   ]
  },
  {
   "cell_type": "code",
   "execution_count": 158,
   "metadata": {
    "collapsed": true,
    "scrolled": false
   },
   "outputs": [],
   "source": [
    "dummies.append('gender')#??? only make dummies for 3 of them ('drop_first=True' makes k-1 dummies)"
   ]
  },
  {
   "cell_type": "markdown",
   "metadata": {},
   "source": [
    "**Age**"
   ]
  },
  {
   "cell_type": "code",
   "execution_count": 159,
   "metadata": {
    "scrolled": false
   },
   "outputs": [
    {
     "data": {
      "text/plain": [
       "count    100309.000000\n",
       "mean         49.658186\n",
       "std         155.692226\n",
       "min           1.000000\n",
       "25%          28.000000\n",
       "50%          34.000000\n",
       "75%          43.000000\n",
       "max        2014.000000\n",
       "Name: age, dtype: float64"
      ]
     },
     "execution_count": 159,
     "metadata": {},
     "output_type": "execute_result"
    }
   ],
   "source": [
    "xtrain.age.describe()"
   ]
  },
  {
   "cell_type": "code",
   "execution_count": 160,
   "metadata": {
    "scrolled": false
   },
   "outputs": [
    {
     "name": "stdout",
     "output_type": "stream",
     "text": [
      "% Individuals older than 100: 0.011\n",
      "% Individuals younger than 18: 0.0007\n"
     ]
    }
   ],
   "source": [
    "print(\"% Individuals older than 100: {}\".format(sum((xtrain.age > 100)/len(xtrain.age)).round(4)))\n",
    "print(\"% Individuals younger than 18: {}\".format((sum(xtrain.age < 18)/len(xtrain.age)).round(4)))"
   ]
  },
  {
   "cell_type": "markdown",
   "metadata": {},
   "source": [
    "According to the age distribution statistics, it appears that the data contains individuals with implausible ages exceeding 120 years. We may be better suited to only include individuals under the age of 100 in our analysis and modeling."
   ]
  },
  {
   "cell_type": "code",
   "execution_count": 161,
   "metadata": {
    "scrolled": false
   },
   "outputs": [
    {
     "data": {
      "text/plain": [
       "count    98423.000000\n",
       "mean        36.522988\n",
       "std         11.654536\n",
       "min          1.000000\n",
       "25%         28.000000\n",
       "50%         34.000000\n",
       "75%         42.000000\n",
       "max         99.000000\n",
       "Name: age, dtype: float64"
      ]
     },
     "execution_count": 161,
     "metadata": {},
     "output_type": "execute_result"
    }
   ],
   "source": [
    "# Statistics on individuals with age less than 100\n",
    "xtrain[xtrain.age<100]['age'].describe()"
   ]
  },
  {
   "cell_type": "code",
   "execution_count": 162,
   "metadata": {
    "scrolled": false
   },
   "outputs": [
    {
     "data": {
      "text/plain": [
       "<matplotlib.text.Text at 0x123c407b8>"
      ]
     },
     "execution_count": 162,
     "metadata": {},
     "output_type": "execute_result"
    },
    {
     "data": {
      "image/png": "[encoded data removed]",
      "text/plain": [
       "<matplotlib.figure.Figure at 0x1202ef4a8>"
      ]
     },
     "metadata": {},
     "output_type": "display_data"
    }
   ],
   "source": [
    "train_mean_age = xtrain[(xtrain.age<100) & (xtrain.age>18)].age.mean()\n",
    "sns.distplot(xtrain['age'].apply(lambda x : train_mean_age if x>100 or x < 18 else x).dropna(), color='#16A085')\n",
    "plt.xlabel('Age', fontsize=14)\n",
    "plt.ylabel('Percent', fontsize=14)\n",
    "plt.title('Age Distribution', fontsize=18, fontweight='bold')"
   ]
  },
  {
   "cell_type": "markdown",
   "metadata": {},
   "source": [
    "Most of our dataset is comprised of 25-40-year-olds, and there is a small number of users that are younger than Airbnb terms of service allow to book rooms.  We will also have to do address the bizarre ages in the thousands."
   ]
  },
  {
   "cell_type": "code",
   "execution_count": 163,
   "metadata": {
    "collapsed": true,
    "scrolled": false
   },
   "outputs": [],
   "source": [
    "#Change all unusable ages to NaN:\n",
    "xtrain.loc[xtrain.age > 95, 'age'] = np.nan\n",
    "xtrain.loc[xtrain.age < 18, 'age'] = np.nan\n",
    "xtest.loc[xtest.age > 95, 'age'] = np.nan\n",
    "xtest.loc[xtest.age < 18, 'age'] = np.nan\n",
    "test.loc[test.age > 95, 'age'] = np.nan\n",
    "test.loc[test.age < 18, 'age'] = np.nan\n",
    "# Airbnb users must be 18 by law...so does 13 make sense?"
   ]
  },
  {
   "cell_type": "code",
   "execution_count": 164,
   "metadata": {
    "collapsed": true,
    "scrolled": false
   },
   "outputs": [],
   "source": [
    "# Here is a neat way to impute missing age values\n",
    "train_std_age = xtrain[(xtrain.age<100) & (xtrain.age>18)].age.std()\n",
    "# Generate random ages within one standard deviation of the mean for train, xtest, and test sets respectively\n",
    "rand1 = np.random.randint(train_mean_age-train_std_age, train_mean_age+train_std_age, size=xtrain.age.isnull().sum())\n",
    "rand2 = np.random.randint(train_mean_age-train_std_age, train_mean_age+train_std_age, size=xtest.age.isnull().sum())\n",
    "rand3 = np.random.randint(train_mean_age-train_std_age, train_mean_age+train_std_age, size=test.age.isnull().sum())"
   ]
  },
  {
   "cell_type": "code",
   "execution_count": 165,
   "metadata": {
    "collapsed": true,
    "scrolled": false
   },
   "outputs": [],
   "source": [
    "# Create a series to preserve the indices of NaNs\n",
    "xtrain['age'] = xtrain['age'].fillna(pd.Series(rand1, xtrain[xtrain.age.isnull()].index))\n",
    "xtest['age'] = xtest['age'].fillna(pd.Series(rand2, xtest[xtest.age.isnull()].index))\n",
    "test['age'] = test['age'].fillna(pd.Series(rand3, test[test.age.isnull()].index))"
   ]
  },
  {
   "cell_type": "code",
   "execution_count": 166,
   "metadata": {
    "collapsed": true,
    "scrolled": false
   },
   "outputs": [
    {
     "data": {
      "text/plain": [
       "<matplotlib.text.Text at 0x12f6935c0>"
      ]
     },
     "execution_count": 166,
     "metadata": {},
     "output_type": "execute_result"
    },
    {
     "data": {
      "image/png": "[encoded data removed]",
      "text/plain": [
       "<matplotlib.figure.Figure at 0x123d63860>"
      ]
     },
     "metadata": {},
     "output_type": "display_data"
    }
   ],
   "source": [
    "sns.distplot(users['age'].apply(lambda x : train_mean_age if x>100 or x < 18 else x).dropna(), color='#16A085')\n",
    "plt.xlabel('Age', fontsize=14)  #Consider titling simply 'Age'\n",
    "plt.ylabel('Proportion', fontsize=14)\n",
    "plt.title('Adjusted Age Distribution', fontsize=18, fontweight='bold')"
   ]
  },
  {
   "cell_type": "code",
   "execution_count": 175,
   "metadata": {
    "scrolled": false
   },
   "outputs": [
    {
     "data": {
      "text/plain": [
       "(10, 60)"
      ]
     },
     "execution_count": 175,
     "metadata": {},
     "output_type": "execute_result"
    },
    {
     "data": {
      "image/png": "[encoded data removed]",
      "text/plain": [
       "<matplotlib.figure.Figure at 0x127450048>"
      ]
     },
     "metadata": {},
     "output_type": "display_data"
    }
   ],
   "source": [
    "fig, ax = plt.subplots(nrows=1, ncols=1,figsize=(15, 8))\n",
    "sns.boxplot(x='country_destination', y='age', data=xtrain, palette=\"muted\", ax =ax)\n",
    "ax.set_ylim([10, 60])"
   ]
  },
  {
   "cell_type": "markdown",
   "metadata": {},
   "source": [
    "**Signup Method**"
   ]
  },
  {
   "cell_type": "code",
   "execution_count": 179,
   "metadata": {
    "scrolled": false
   },
   "outputs": [
    {
     "data": {
      "text/plain": [
       "<matplotlib.text.Text at 0x1241012b0>"
      ]
     },
     "execution_count": 179,
     "metadata": {},
     "output_type": "execute_result"
    },
    {
     "data": {
      "image/png": "[encoded data removed]",
      "text/plain": [
       "<matplotlib.figure.Figure at 0x12fdda390>"
      ]
     },
     "metadata": {},
     "output_type": "display_data"
    }
   ],
   "source": [
    "xtrain['signup_method'].value_counts(normalize=True, dropna=False).plot(kind='bar', color=['#32CD32','#4682B4','#FF8C00'])\n",
    "plt.title('User Signup Method', fontsize=14)\n",
    "plt.xlabel('Method', fontsize=12)\n",
    "plt.ylabel('Proportion', fontsize=12)"
   ]
  },
  {
   "cell_type": "code",
   "execution_count": 170,
   "metadata": {
    "scrolled": false
   },
   "outputs": [
    {
     "data": {
      "text/plain": [
       "basic       0.729918\n",
       "facebook    0.239242\n",
       "google      0.030469\n",
       "weibo       0.000370\n",
       "Name: signup_method, dtype: float64"
      ]
     },
     "execution_count": 170,
     "metadata": {},
     "output_type": "execute_result"
    }
   ],
   "source": [
    "test.signup_method.value_counts(normalize=True, dropna=False)"
   ]
  },
  {
   "cell_type": "code",
   "execution_count": 171,
   "metadata": {
    "collapsed": true,
    "scrolled": false
   },
   "outputs": [],
   "source": [
    "keep = ['basic','facebook','google']\n",
    "# Prevents columns contained in test set but not in training set from causing issues\n",
    "test.loc[~test.signup_method.isin(keep),'signup_method'] = np.nan"
   ]
  },
  {
   "cell_type": "code",
   "execution_count": 416,
   "metadata": {},
   "outputs": [
    {
     "data": {
      "text/plain": [
       "basic       0.729918\n",
       "facebook    0.239242\n",
       "google      0.030469\n",
       "weibo       0.000370\n",
       "Name: signup_method, dtype: float64"
      ]
     },
     "execution_count": 416,
     "metadata": {},
     "output_type": "execute_result"
    }
   ],
   "source": [
    "test.signup_method.value_counts(normalize=True, dropna=False)"
   ]
  },
  {
   "cell_type": "code",
   "execution_count": 27,
   "metadata": {
    "collapsed": true,
    "scrolled": false
   },
   "outputs": [],
   "source": [
    "keep = ['basic','facebook','google']\n",
    "# Prevents columns contained in test set but not in training set from causing issues\n",
    "test.loc[~test.signup_method.isin(keep),'signup_method'] = np.nan"
   ]
  },
  {
   "cell_type": "markdown",
   "metadata": {},
   "source": [
    "Signup Method is a rather straightforward dummy case, and there are no null values to fill in for, as per the null value analysis done previously in the notebook."
   ]
  },
  {
   "cell_type": "code",
   "execution_count": 28,
   "metadata": {
    "scrolled": false
   },
   "outputs": [
    {
     "data": {
      "text/plain": [
       "0     0.771598\n",
       "25    0.068880\n",
       "12    0.043816\n",
       "3     0.041210\n",
       "2     0.032109\n",
       "24    0.020502\n",
       "23    0.013147\n",
       "1     0.004878\n",
       "6     0.001482\n",
       "8     0.001113\n",
       "21    0.000925\n",
       "5     0.000170\n",
       "20    0.000070\n",
       "16    0.000047\n",
       "15    0.000041\n",
       "4     0.000006\n",
       "10    0.000006\n",
       "Name: signup_flow, dtype: float64"
      ]
     },
     "execution_count": 28,
     "metadata": {},
     "output_type": "execute_result"
    }
   ],
   "source": [
    "xtrain['signup_flow'].value_counts(normalize=True, dropna=False)"
   ]
  },
  {
   "cell_type": "code",
   "execution_count": 420,
   "metadata": {
    "collapsed": true
   },
   "outputs": [],
   "source": [
    "# Replace values consisting of less than 0.1% of the data with the 'signup_flow' mode, 0\n",
    "replace_vals = np.arange(1,25,1)\n",
    "xtrain.signup_flow.replace(to_replace=replace_vals, value='other', inplace=True)\n",
    "xtest.signup_flow.replace(to_replace=replace_vals, value='other', inplace=True)\n",
    "test.signup_flow.replace(to_replace=replace_vals, value='other', inplace=True)"
   ]
  },
  {
   "cell_type": "code",
   "execution_count": 29,
   "metadata": {
    "collapsed": true,
    "scrolled": false
   },
   "outputs": [],
   "source": [
    "# Replace values consisting of less than 0.1% of the data with the 'signup_flow' mode, 0\n",
    "replace_vals = np.arange(1,25,1)\n",
    "xtrain.signup_flow.replace(to_replace=replace_vals, value='other', inplace=True)\n",
    "xtest.signup_flow.replace(to_replace=replace_vals, value='other', inplace=True)\n",
    "test.signup_flow.replace(to_replace=replace_vals, value='other', inplace=True)"
   ]
  },
  {
   "cell_type": "code",
   "execution_count": 30,
   "metadata": {
    "collapsed": true,
    "scrolled": false
   },
   "outputs": [],
   "source": [
    "dummies.append('signup_flow')"
   ]
  },
  {
   "cell_type": "markdown",
   "metadata": {},
   "source": [
    "**Language**"
   ]
  },
  {
   "cell_type": "code",
   "execution_count": 141,
   "metadata": {
    "scrolled": false
   },
   "outputs": [
    {
     "data": {
      "text/plain": [
       "<matplotlib.text.Text at 0x12905f160>"
      ]
     },
     "execution_count": 141,
     "metadata": {},
     "output_type": "execute_result"
    },
    {
     "data": {
      "image/png": "[encoded data removed]",
      "text/plain": [
       "<matplotlib.figure.Figure at 0x129058cc0>"
      ]
     },
     "metadata": {},
     "output_type": "display_data"
    }
   ],
   "source": [
    "xtrain['language'].value_counts(normalize=True, dropna=False).plot(kind='barh',colormap='Paired')\n",
    "plt.title('User Language', fontsize=14)\n",
    "plt.xlabel('Language', fontsize=12)\n",
    "plt.ylabel('Proportion', fontsize=12)"
   ]
  },
  {
   "cell_type": "markdown",
   "metadata": {
    "collapsed": true
   },
   "source": [
    "Since 96% of all users speak English, the language variable may provide little insight. Making dummies for all of the languages seems illogical. We could consider creating dummies for English (eh), Chinese (zh), and an 'other' category."
   ]
  },
  {
   "cell_type": "code",
   "execution_count": 32,
   "metadata": {
    "collapsed": true,
    "scrolled": false
   },
   "outputs": [],
   "source": [
    "xtrain.language = xtrain.language.apply(lambda x: x if str(x) == 'en' or str(x) == 'zh' else 'other')\n",
    "xtest.language = xtest.language.apply(lambda x: x if str(x) == 'en' or str(x) == 'zh' else 'other')\n",
    "test.language = test.language.apply(lambda x: x if str(x) == 'en' or str(x) == 'zh' else 'other')"
   ]
  },
  {
   "cell_type": "code",
   "execution_count": 33,
   "metadata": {
    "collapsed": true,
    "scrolled": false
   },
   "outputs": [],
   "source": [
    "dummies.append('language')"
   ]
  },
  {
   "cell_type": "markdown",
   "metadata": {
    "collapsed": true
   },
   "source": [
    "**Affiliate Channel**"
   ]
  },
  {
   "cell_type": "code",
   "execution_count": 185,
   "metadata": {
    "scrolled": false
   },
   "outputs": [
    {
     "data": {
      "text/plain": [
       "<matplotlib.text.Text at 0x1328d89e8>"
      ]
     },
     "execution_count": 185,
     "metadata": {},
     "output_type": "execute_result"
    },
    {
     "data": {
      "image/png": "[encoded data removed]",
      "text/plain": [
       "<matplotlib.figure.Figure at 0x1319f4b00>"
      ]
     },
     "metadata": {},
     "output_type": "display_data"
    }
   ],
   "source": [
    "xtrain.affiliate_channel.value_counts(normalize=True, dropna=False).plot(kind='bar')# note 'api' isn't in test data\n",
    "plt.title('User Language', fontsize=16)\n",
    "plt.xlabel('Language', fontsize=14)\n",
    "plt.ylabel('Proportion', fontsize=14)"
   ]
  },
  {
   "cell_type": "code",
   "execution_count": 35,
   "metadata": {
    "collapsed": true,
    "scrolled": false
   },
   "outputs": [],
   "source": [
    "keep2 = test.affiliate_channel.unique()\n",
    "xtrain.loc[~xtrain.affiliate_channel.isin(keep2),'affiliate_channel'] = np.nan\n",
    "xtest.loc[~xtest.affiliate_channel.isin(keep2),'affiliate_channel'] = np.nan"
   ]
  },
  {
   "cell_type": "code",
   "execution_count": 36,
   "metadata": {
    "collapsed": true,
    "scrolled": false
   },
   "outputs": [],
   "source": [
    "dummies.append('affiliate_channel')"
   ]
  },
  {
   "cell_type": "markdown",
   "metadata": {},
   "source": [
    "**Affiliate Provider**"
   ]
  },
  {
   "cell_type": "code",
   "execution_count": 37,
   "metadata": {
    "scrolled": true
   },
   "outputs": [
    {
     "data": {
      "text/plain": [
       "direct                 0.643640\n",
       "google                 0.241614\n",
       "other                  0.059241\n",
       "craigslist             0.016544\n",
       "bing                   0.011097\n",
       "facebook               0.010606\n",
       "vast                   0.003842\n",
       "padmapper              0.003613\n",
       "facebook-open-graph    0.002588\n",
       "yahoo                  0.002290\n",
       "gsp                    0.002073\n",
       "meetup                 0.001628\n",
       "email-marketing        0.000755\n",
       "naver                  0.000234\n",
       "baidu                  0.000129\n",
       "yandex                 0.000070\n",
       "wayn                   0.000029\n",
       "daum                   0.000006\n",
       "Name: affiliate_provider, dtype: float64"
      ]
     },
     "execution_count": 37,
     "metadata": {},
     "output_type": "execute_result"
    }
   ],
   "source": [
    "xtrain.affiliate_provider.value_counts(normalize=True, dropna=False)"
   ]
  },
  {
   "cell_type": "code",
   "execution_count": 38,
   "metadata": {
    "collapsed": true,
    "scrolled": false
   },
   "outputs": [],
   "source": [
    "#??? Either make dummies for all or only the categories consisting of more than 3%\n",
    "xtrain.affiliate_provider = xtrain.affiliate_provider.apply(lambda x: x if str(x) == 'direct' or str(x) == 'google'\n",
    "                                                           else 'other' )\n",
    "xtest.affiliate_provider = xtest.affiliate_provider.apply(lambda x: x if str(x) == 'direct' or str(x) == 'google'\n",
    "                                                           else 'other' )\n",
    "test.affiliate_provider = test.affiliate_provider.apply(lambda x: x if str(x) == 'direct' or str(x) == 'google'\n",
    "                                                           else 'other' )\n",
    "dummies.append('affiliate_provider')"
   ]
  },
  {
   "cell_type": "markdown",
   "metadata": {},
   "source": [
    "**First Affiliate Tracked**\n",
    "\n",
    "First marketing interacted with by the user before signing up."
   ]
  },
  {
   "cell_type": "code",
   "execution_count": 39,
   "metadata": {
    "scrolled": false
   },
   "outputs": [
    {
     "data": {
      "text/plain": [
       "untracked        0.510606\n",
       "linked           0.217270\n",
       "omg              0.206055\n",
       "tracked-other    0.029035\n",
       "NaN              0.028789\n",
       "product          0.007408\n",
       "marketing        0.000673\n",
       "local ops        0.000164\n",
       "Name: first_affiliate_tracked, dtype: float64"
      ]
     },
     "execution_count": 39,
     "metadata": {},
     "output_type": "execute_result"
    }
   ],
   "source": [
    "xtrain.first_affiliate_tracked.value_counts(normalize=True, dropna=False)"
   ]
  },
  {
   "cell_type": "code",
   "execution_count": 40,
   "metadata": {
    "collapsed": true,
    "scrolled": false
   },
   "outputs": [],
   "source": [
    "# Fills null values with variable mode, which is 'untracked'\n",
    "xtrain.first_affiliate_tracked.fillna(value='{}'.format(xtrain.first_affiliate_tracked.mode()[0]),inplace=True)\n",
    "xtest.first_affiliate_tracked.fillna(value='{}'.format(xtrain.first_affiliate_tracked.mode()[0]),inplace=True)\n",
    "test.first_affiliate_tracked.fillna(value='{}'.format(xtrain.first_affiliate_tracked.mode()[0]),inplace=True)\n",
    "dummies.append('first_affiliate_tracked')"
   ]
  },
  {
   "cell_type": "markdown",
   "metadata": {},
   "source": [
    "**Signup App**"
   ]
  },
  {
   "cell_type": "code",
   "execution_count": 41,
   "metadata": {
    "scrolled": false
   },
   "outputs": [
    {
     "data": {
      "text/plain": [
       "Web        0.855651\n",
       "iOS        0.089506\n",
       "Moweb      0.029351\n",
       "Android    0.025492\n",
       "Name: signup_app, dtype: float64"
      ]
     },
     "execution_count": 41,
     "metadata": {},
     "output_type": "execute_result"
    }
   ],
   "source": [
    "xtrain.signup_app.value_counts(normalize=True, dropna=False)"
   ]
  },
  {
   "cell_type": "code",
   "execution_count": 42,
   "metadata": {
    "collapsed": true,
    "scrolled": false
   },
   "outputs": [],
   "source": [
    "dummies.append('signup_app')"
   ]
  },
  {
   "cell_type": "markdown",
   "metadata": {},
   "source": [
    "**First Device Type**"
   ]
  },
  {
   "cell_type": "code",
   "execution_count": 43,
   "metadata": {
    "scrolled": false
   },
   "outputs": [
    {
     "data": {
      "text/plain": [
       "Mac Desktop           0.419320\n",
       "Windows Desktop       0.340976\n",
       "iPhone                0.097242\n",
       "iPad                  0.067071\n",
       "Other/Unknown         0.050158\n",
       "Android Phone         0.013317\n",
       "Android Tablet        0.006108\n",
       "Desktop (Other)       0.005452\n",
       "SmartPhone (Other)    0.000357\n",
       "Name: first_device_type, dtype: float64"
      ]
     },
     "execution_count": 43,
     "metadata": {},
     "output_type": "execute_result"
    }
   ],
   "source": [
    "xtrain.first_device_type.value_counts(normalize=True, dropna=False)"
   ]
  },
  {
   "cell_type": "code",
   "execution_count": 44,
   "metadata": {
    "collapsed": true,
    "scrolled": false
   },
   "outputs": [],
   "source": [
    "dummies.append('first_device_type')"
   ]
  },
  {
   "cell_type": "markdown",
   "metadata": {},
   "source": [
    "**First Browser**"
   ]
  },
  {
   "cell_type": "code",
   "execution_count": 45,
   "metadata": {
    "scrolled": true
   },
   "outputs": [
    {
     "data": {
      "text/plain": [
       "Chrome                  0.298969\n",
       "Safari                  0.210957\n",
       "Firefox                 0.157900\n",
       "-unknown-               0.127987\n",
       "IE                      0.098969\n",
       "Mobile Safari           0.090015\n",
       "Chrome Mobile           0.006196\n",
       "Android Browser         0.004035\n",
       "AOL Explorer            0.001113\n",
       "Opera                   0.000896\n",
       "Silk                    0.000597\n",
       "Chromium                0.000328\n",
       "BlackBerry Browser      0.000246\n",
       "Maxthon                 0.000240\n",
       "Apple Mail              0.000176\n",
       "Mobile Firefox          0.000152\n",
       "IE Mobile               0.000152\n",
       "Sogou Explorer          0.000146\n",
       "SiteKiosk               0.000141\n",
       "RockMelt                0.000123\n",
       "Iron                    0.000082\n",
       "Pale Moon               0.000064\n",
       "IceWeasel               0.000059\n",
       "Yandex.Browser          0.000053\n",
       "Camino                  0.000047\n",
       "CometBird               0.000047\n",
       "TenFourFox              0.000041\n",
       "SeaMonkey               0.000035\n",
       "wOSBrowser              0.000035\n",
       "CoolNovo                0.000035\n",
       "Opera Mini              0.000023\n",
       "Avant Browser           0.000018\n",
       "Flock                   0.000012\n",
       "TheWorld Browser        0.000012\n",
       "SlimBrowser             0.000012\n",
       "Epic                    0.000006\n",
       "PS Vita browser         0.000006\n",
       "IceDragon               0.000006\n",
       "Comodo Dragon           0.000006\n",
       "Kindle Browser          0.000006\n",
       "Outlook 2007            0.000006\n",
       "OmniWeb                 0.000006\n",
       "Palm Pre web browser    0.000006\n",
       "Crazy Browser           0.000006\n",
       "Googlebot               0.000006\n",
       "NetNewsWire             0.000006\n",
       "Mozilla                 0.000006\n",
       "Google Earth            0.000006\n",
       "Arora                   0.000006\n",
       "Opera Mobile            0.000006\n",
       "Name: first_browser, dtype: float64"
      ]
     },
     "execution_count": 45,
     "metadata": {},
     "output_type": "execute_result"
    }
   ],
   "source": [
    "xtrain.first_browser.value_counts(normalize=True, dropna=False)"
   ]
  },
  {
   "cell_type": "code",
   "execution_count": 46,
   "metadata": {
    "collapsed": true,
    "scrolled": false
   },
   "outputs": [],
   "source": [
    "vlist = ['Chrome', 'Safari', '-unknown-', 'Firefox', 'Mobile Safari', 'IE']\n",
    "xtrain.first_browser = xtrain.first_browser.apply(lambda x: x if str(x) in vlist else 'other')\n",
    "xtest.first_browser = xtest.first_browser.apply(lambda x: x if str(x) in vlist else 'other')\n",
    "test.first_browser = test.first_browser.apply(lambda x: x if str(x) in vlist else 'other')"
   ]
  },
  {
   "cell_type": "code",
   "execution_count": 47,
   "metadata": {
    "collapsed": true,
    "scrolled": false
   },
   "outputs": [],
   "source": [
    "dummies.append('first_browser')"
   ]
  },
  {
   "cell_type": "markdown",
   "metadata": {},
   "source": [
    "**Where possible, we should make sure the 'NDF' group is comparable on other observable characteristics. We can go back and add visualizations in the data cleaning section**"
   ]
  },
  {
   "cell_type": "code",
   "execution_count": 48,
   "metadata": {
    "scrolled": false
   },
   "outputs": [
    {
     "data": {
      "text/plain": [
       "NDF      0.583860\n",
       "US       0.291936\n",
       "other    0.047365\n",
       "FR       0.023501\n",
       "IT       0.013311\n",
       "GB       0.010699\n",
       "ES       0.010529\n",
       "CA       0.006752\n",
       "DE       0.004995\n",
       "NL       0.003555\n",
       "AU       0.002489\n",
       "PT       0.001007\n",
       "Name: country_destination, dtype: float64"
      ]
     },
     "execution_count": 48,
     "metadata": {},
     "output_type": "execute_result"
    }
   ],
   "source": [
    "xtrain.country_destination.value_counts(normalize=True, dropna=False)"
   ]
  },
  {
   "cell_type": "code",
   "execution_count": 49,
   "metadata": {
    "collapsed": true,
    "scrolled": false
   },
   "outputs": [],
   "source": [
    "test_ids = test['id'].to_frame()"
   ]
  },
  {
   "cell_type": "code",
   "execution_count": 50,
   "metadata": {
    "collapsed": true,
    "scrolled": false
   },
   "outputs": [],
   "source": [
    "xtrain.drop(drop, axis=1, inplace=True)\n",
    "xtest.drop(drop, axis=1, inplace=True)\n",
    "test.drop(drop[2:], axis=1, inplace=True)"
   ]
  },
  {
   "cell_type": "code",
   "execution_count": 51,
   "metadata": {
    "collapsed": true,
    "scrolled": false
   },
   "outputs": [],
   "source": [
    "xtrain = pd.get_dummies(xtrain, columns=dummies, dummy_na=False)\n",
    "xtest = pd.get_dummies(xtest, columns=dummies, dummy_na=False)\n",
    "test = pd.get_dummies(test, columns=dummies, dummy_na=False)"
   ]
  },
  {
   "cell_type": "markdown",
   "metadata": {},
   "source": [
    "## Modeling"
   ]
  },
  {
   "cell_type": "markdown",
   "metadata": {},
   "source": [
    "### Binary Classification: To Book or Not to Book?"
   ]
  },
  {
   "cell_type": "markdown",
   "metadata": {},
   "source": [
    "We first create a binary classification model to predict whether or not an individual will book an Airbnb. Our second model will then classify to which country a user will first visit given that they book a trip."
   ]
  },
  {
   "cell_type": "markdown",
   "metadata": {},
   "source": [
    "#### K-Neighbors Classifier"
   ]
  },
  {
   "cell_type": "code",
   "execution_count": 52,
   "metadata": {
    "collapsed": true,
    "scrolled": false
   },
   "outputs": [],
   "source": [
    "kn_clf = KNeighborsClassifier()"
   ]
  },
  {
   "cell_type": "code",
   "execution_count": 53,
   "metadata": {
    "scrolled": false
   },
   "outputs": [
    {
     "name": "stdout",
     "output_type": "stream",
     "text": [
      "CPU times: user 8min 22s, sys: 10.9 s, total: 8min 33s\n",
      "Wall time: 42min 33s\n",
      "Best Parameters: {'n_neighbors': 7, 'p': 1, 'weights': 'uniform'}\n",
      "Training Accuracy Score: 0.6754567814476459\n",
      "Test Accuracy Score: 0.5395516619427982\n"
     ]
    }
   ],
   "source": [
    "gridsearch_kn = GridSearchCV(kn_clf, {\"n_neighbors\": [3,5,7], \"weights\": ['uniform', 'distance'],\n",
    "                                  \"p\":[1,2,3]})\n",
    "%time gridsearch_kn.fit(xtrain, ytrain)\n",
    "print(\"Best Parameters: {}\".format(gridsearch_kn.best_params_))\n",
    "knclf_ypredict_train = gridsearch_kn.predict(xtrain)\n",
    "print(\"Training Accuracy Score: {}\".format(metrics.accuracy_score(ytrain, knclf_ypredict_train)))\n",
    "knclf_ypredict_test = gridsearch_kn.predict(xtest)\n",
    "print(\"Test Accuracy Score: {}\".format(metrics.accuracy_score(ytest, knclf_ypredict_test)))"
   ]
  },
  {
   "cell_type": "markdown",
   "metadata": {},
   "source": [
    "#### Random Forest"
   ]
  },
  {
   "cell_type": "code",
   "execution_count": 54,
   "metadata": {
    "collapsed": true,
    "scrolled": false
   },
   "outputs": [],
   "source": [
    "rf_clf = RandomForestClassifier()\n",
    "gridsearch_rf = GridSearchCV(rf_clf, {\"n_estimators\": [60, 100, 200], \"class_weight\": ['balanced', None],\n",
    "                                      \"max_depth\": [7,9,11]})"
   ]
  },
  {
   "cell_type": "code",
   "execution_count": 55,
   "metadata": {
    "scrolled": true
   },
   "outputs": [
    {
     "name": "stdout",
     "output_type": "stream",
     "text": [
      "CPU times: user 14min 48s, sys: 39.9 s, total: 15min 28s\n",
      "Wall time: 15min 30s\n",
      "Best Parameters: {'class_weight': None, 'max_depth': 11, 'n_estimators': 200}\n"
     ]
    }
   ],
   "source": [
    "%time gridsearch_rf.fit(xtrain, ytrain)\n",
    "print(\"Best Parameters: {}\".format(gridsearch_rf.best_params_))\n",
    "rfclf_ypredict_train = gridsearch_rf.predict(xtrain)"
   ]
  },
  {
   "cell_type": "code",
   "execution_count": 56,
   "metadata": {
    "scrolled": false
   },
   "outputs": [
    {
     "name": "stdout",
     "output_type": "stream",
     "text": [
      "Test Classification Report:\n",
      "             precision    recall  f1-score   support\n",
      "\n",
      "          0       0.68      0.80      0.74     24843\n",
      "          1       0.63      0.49      0.55     17848\n",
      "\n",
      "avg / total       0.66      0.67      0.66     42691\n",
      "\n",
      "Train Accuracy: 0.679509252752401\n",
      "Test Accuracy: 0.6684312852826123\n"
     ]
    }
   ],
   "source": [
    "print(\"Test Classification Report:\")\n",
    "rfclf_ypredict_test = gridsearch_rf.predict(xtest)\n",
    "print(metrics.classification_report(ytest, rfclf_ypredict_test))\n",
    "\n",
    "print(\"Train Accuracy: {}\\nTest Accuracy: {}\".format(metrics.accuracy_score(ytrain, rfclf_ypredict_train),\n",
    "                                                    metrics.accuracy_score(ytest, rfclf_ypredict_test)))"
   ]
  },
  {
   "cell_type": "markdown",
   "metadata": {},
   "source": [
    "#### XGBoost"
   ]
  },
  {
   "cell_type": "code",
   "execution_count": 57,
   "metadata": {
    "collapsed": true,
    "scrolled": false
   },
   "outputs": [],
   "source": [
    "xgb_clf = xgb.XGBClassifier()"
   ]
  },
  {
   "cell_type": "code",
   "execution_count": 58,
   "metadata": {
    "collapsed": true,
    "scrolled": false
   },
   "outputs": [],
   "source": [
    "gridsearch_xgb = GridSearchCV(xgb_clf, {'n_estimators':[50,100,150],'max_depth':[3,5,7],'learning_rate':[.01,.05,.1]})"
   ]
  },
  {
   "cell_type": "code",
   "execution_count": 59,
   "metadata": {
    "scrolled": false
   },
   "outputs": [
    {
     "name": "stdout",
     "output_type": "stream",
     "text": [
      "CPU times: user 1h 11min 19s, sys: 40.7 s, total: 1h 12min\n",
      "Wall time: 1h 18min 41s\n",
      "Best Parameters: {'learning_rate': 0.05, 'max_depth': 7, 'n_estimators': 150}\n"
     ]
    }
   ],
   "source": [
    "%time gridsearch_xgb.fit(xtrain, ytrain)\n",
    "print(\"Best Parameters: {}\".format(gridsearch_xgb.best_params_))"
   ]
  },
  {
   "cell_type": "code",
   "execution_count": 60,
   "metadata": {
    "collapsed": true,
    "scrolled": false
   },
   "outputs": [],
   "source": [
    "xgbclf_ypredict_train = gridsearch_xgb.predict(xtrain)"
   ]
  },
  {
   "cell_type": "code",
   "execution_count": 61,
   "metadata": {
    "scrolled": false
   },
   "outputs": [
    {
     "name": "stdout",
     "output_type": "stream",
     "text": [
      "Test Classification Report:\n",
      "             precision    recall  f1-score   support\n",
      "\n",
      "          0       0.69      0.79      0.74     24843\n",
      "          1       0.63      0.51      0.57     17848\n",
      "\n",
      "avg / total       0.67      0.67      0.67     42691\n",
      "\n",
      "Train Accuracy: 0.6825720309205903\n",
      "Test Accuracy: 0.6718512098568785\n"
     ]
    }
   ],
   "source": [
    "print(\"Test Classification Report:\")\n",
    "xgbclf_ypredict_test = gridsearch_xgb.predict(xtest)\n",
    "print(metrics.classification_report(ytest, xgbclf_ypredict_test))\n",
    "\n",
    "print(\"Train Accuracy: {}\\nTest Accuracy: {}\".format(metrics.accuracy_score(ytrain, xgbclf_ypredict_train),\n",
    "                                                    metrics.accuracy_score(ytest, xgbclf_ypredict_test)))"
   ]
  },
  {
   "cell_type": "markdown",
   "metadata": {},
   "source": [
    "### Multiple Classification: Country Destination"
   ]
  },
  {
   "cell_type": "code",
   "execution_count": 62,
   "metadata": {
    "collapsed": true,
    "scrolled": false
   },
   "outputs": [],
   "source": [
    "# Selects xtrain indices from multiclass target2 and creates new ytrain series\n",
    "ytrain2 = target2[xtrain.index][target2!='NDF']"
   ]
  },
  {
   "cell_type": "code",
   "execution_count": 63,
   "metadata": {
    "collapsed": true,
    "scrolled": false
   },
   "outputs": [],
   "source": [
    "xtrain2 = xtrain.loc[ytrain2.index]"
   ]
  },
  {
   "cell_type": "code",
   "execution_count": 64,
   "metadata": {
    "collapsed": true,
    "scrolled": false
   },
   "outputs": [],
   "source": [
    "ytest2 = target2[xtest.index][target2!='NDF']"
   ]
  },
  {
   "cell_type": "code",
   "execution_count": 65,
   "metadata": {
    "collapsed": true,
    "scrolled": false
   },
   "outputs": [],
   "source": [
    "xtest2 = xtest.loc[ytest2.index]"
   ]
  },
  {
   "cell_type": "markdown",
   "metadata": {},
   "source": [
    "#### K-Neighbors Classifier"
   ]
  },
  {
   "cell_type": "code",
   "execution_count": 66,
   "metadata": {
    "scrolled": false
   },
   "outputs": [
    {
     "name": "stdout",
     "output_type": "stream",
     "text": [
      "CPU times: user 3min 2s, sys: 4.17 s, total: 3min 6s\n",
      "Wall time: 3min 7s\n",
      "Best Parameters: {'n_neighbors': 9, 'p': 1, 'weights': 'uniform'}\n",
      "Training Accuracy Score: 0.7027300872502111\n",
      "Test Accuracy Score: 0.6949238009861048\n"
     ]
    }
   ],
   "source": [
    "gridsearch_kn2 = GridSearchCV(kn_clf, {\"n_neighbors\": [5,7,9], \"weights\": ['uniform', 'distance'],\n",
    "                                  \"p\":[1,2,3]})\n",
    "%time gridsearch_kn2.fit(xtrain2, ytrain2)\n",
    "print(\"Best Parameters: {}\".format(gridsearch_kn2.best_params_))\n",
    "knclf2_ypredict_train = gridsearch_kn2.predict(xtrain2)\n",
    "print(\"Training Accuracy Score: {}\".format(metrics.accuracy_score(ytrain2, knclf2_ypredict_train)))\n",
    "knclf2_ypredict_test = gridsearch_kn2.predict(xtest2)\n",
    "print(\"Test Accuracy Score: {}\".format(metrics.accuracy_score(ytest2, knclf2_ypredict_test)))"
   ]
  },
  {
   "cell_type": "markdown",
   "metadata": {},
   "source": [
    "#### Random Forest"
   ]
  },
  {
   "cell_type": "code",
   "execution_count": 67,
   "metadata": {
    "collapsed": true,
    "scrolled": false
   },
   "outputs": [],
   "source": []
  },
  {
   "cell_type": "markdown",
   "metadata": {},
   "source": [
    "rf_clf2 = RandomForestClassifier()\n",
    "gridsearch_rf2  = GridSearchCV(rf_clf2, {\"n_estimators\": [20,30,60,100], \"class_weight\": ['balanced', None],\n",
    "                                      \"max_depth\": [3,5,7,9]})"
   ]
  },
  {
   "cell_type": "code",
   "execution_count": 68,
   "metadata": {
    "scrolled": false
   },
   "outputs": [
    {
     "name": "stdout",
     "output_type": "stream",
     "text": [
      "Best Parameters: {'class_weight': None, 'max_depth': 3, 'n_estimators': 20}\n"
     ]
    }
   ],
   "source": [
    "gridsearch_rf2.fit(xtrain2, ytrain2)\n",
    "print(\"Best Parameters: {}\".format(gridsearch_rf2.best_params_))\n",
    "rfclf2_ypredict_train = gridsearch_rf2.predict(xtrain2)"
   ]
  },
  {
   "cell_type": "code",
   "execution_count": 69,
   "metadata": {
    "scrolled": false
   },
   "outputs": [
    {
     "name": "stdout",
     "output_type": "stream",
     "text": [
      "Train Accuracy: 0.7015339150014073\n",
      "Test Accuracy: 0.7017593007619901\n"
     ]
    }
   ],
   "source": [
    "rfclf2_ypredict_test = gridsearch_rf2.predict(xtest2)\n",
    "print(\"Train Accuracy: {}\\nTest Accuracy: {}\".format(metrics.accuracy_score(ytrain2, rfclf2_ypredict_train),\n",
    "                                                    metrics.accuracy_score(ytest2, rfclf2_ypredict_test)))"
   ]
  },
  {
   "cell_type": "markdown",
   "metadata": {},
   "source": [
    "#### XGBoost"
   ]
  },
  {
   "cell_type": "code",
   "execution_count": 70,
   "metadata": {
    "scrolled": false
   },
   "outputs": [
    {
     "name": "stdout",
     "output_type": "stream",
     "text": [
      "CPU times: user 2h 5min 13s, sys: 39.3 s, total: 2h 5min 52s\n",
      "Wall time: 2h 7min 31s\n",
      "Best Parameters: {'learning_rate': 0.01, 'max_depth': 5, 'n_estimators': 10}\n"
     ]
    }
   ],
   "source": [
    "gridsearch_xgb2 = GridSearchCV(xgb_clf, {'n_estimators':[10,30,60],'max_depth':[3,5,7],'learning_rate':[.01,.05,.1]})\n",
    "%time gridsearch_xgb2.fit(xtrain2, ytrain2)\n",
    "print(\"Best Parameters: {}\".format(gridsearch_xgb2.best_params_))"
   ]
  },
  {
   "cell_type": "code",
   "execution_count": 71,
   "metadata": {
    "scrolled": false
   },
   "outputs": [
    {
     "name": "stdout",
     "output_type": "stream",
     "text": [
      "Test Classification Report:\n",
      "             precision    recall  f1-score   support\n",
      "\n",
      "         AU       0.00      0.00      0.00       114\n",
      "         CA       0.00      0.00      0.00       275\n",
      "         DE       0.00      0.00      0.00       208\n",
      "         ES       0.00      0.00      0.00       451\n",
      "         FR       0.00      0.00      0.00      1010\n",
      "         GB       0.00      0.00      0.00       497\n",
      "         IT       0.00      0.00      0.00       562\n",
      "         NL       0.00      0.00      0.00       155\n",
      "         PT       0.00      0.00      0.00        45\n",
      "         US       0.70      1.00      0.82     12525\n",
      "      other       0.00      0.00      0.00      2006\n",
      "\n",
      "avg / total       0.49      0.70      0.58     17848\n",
      "\n",
      "Train Accuracy: 0.7015339150014073\n",
      "Test Accuracy: 0.7017593007619901\n"
     ]
    },
    {
     "name": "stderr",
     "output_type": "stream",
     "text": [
      "/Users/Elijah/anaconda/lib/python3.6/site-packages/sklearn/metrics/classification.py:1113: UndefinedMetricWarning: Precision and F-score are ill-defined and being set to 0.0 in labels with no predicted samples.\n",
      "  'precision', 'predicted', average, warn_for)\n"
     ]
    }
   ],
   "source": [
    "xgbclf2_ypredict_train = gridsearch_xgb2.predict(xtrain2)\n",
    "print(\"Test Classification Report:\")\n",
    "xgbclf2_ypredict_test = gridsearch_xgb2.predict(xtest2)\n",
    "print(metrics.classification_report(ytest2, xgbclf2_ypredict_test))\n",
    "\n",
    "print(\"Train Accuracy: {}\\nTest Accuracy: {}\".format(metrics.accuracy_score(ytrain2, xgbclf2_ypredict_train),\n",
    "                                                    metrics.accuracy_score(ytest2, xgbclf2_ypredict_test)))"
   ]
  },
  {
   "cell_type": "markdown",
   "metadata": {},
   "source": [
    "## Predictions"
   ]
  },
  {
   "cell_type": "code",
   "execution_count": 72,
   "metadata": {
    "collapsed": true,
    "scrolled": false
   },
   "outputs": [],
   "source": [
    "# Binary classification model to predict which users will book\n",
    "book_predictions = gridsearch_rf.best_estimator_.predict(test)"
   ]
  },
  {
   "cell_type": "code",
   "execution_count": 73,
   "metadata": {
    "scrolled": false
   },
   "outputs": [
    {
     "data": {
      "text/plain": [
       "0    0.773061\n",
       "1    0.226939\n",
       "Name: Booked, dtype: float64"
      ]
     },
     "execution_count": 73,
     "metadata": {},
     "output_type": "execute_result"
    }
   ],
   "source": [
    "predictions_df = pd.DataFrame(data=book_predictions, columns=['Booked'])\n",
    "predictions_df['Booked'].value_counts(normalize=True)"
   ]
  },
  {
   "cell_type": "code",
   "execution_count": 74,
   "metadata": {
    "collapsed": true,
    "scrolled": false
   },
   "outputs": [],
   "source": [
    "country_predictions = gridsearch_rf2.best_estimator_.predict(test)"
   ]
  },
  {
   "cell_type": "code",
   "execution_count": 75,
   "metadata": {
    "collapsed": true,
    "scrolled": false
   },
   "outputs": [],
   "source": [
    "test_ids['country'] = country_predictions"
   ]
  },
  {
   "cell_type": "code",
   "execution_count": 76,
   "metadata": {
    "collapsed": true,
    "scrolled": false
   },
   "outputs": [],
   "source": [
    "# Fills the users destination whom were predicted not to book with 'NDF' \n",
    "test_ids.loc[predictions_df[predictions_df['Booked']==0].index,'country'] = 'NDF'"
   ]
  },
  {
   "cell_type": "code",
   "execution_count": 77,
   "metadata": {
    "scrolled": false
   },
   "outputs": [
    {
     "data": {
      "text/plain": [
       "NDF    0.773061\n",
       "US     0.226939\n",
       "Name: country, dtype: float64"
      ]
     },
     "execution_count": 77,
     "metadata": {},
     "output_type": "execute_result"
    }
   ],
   "source": [
    "test_ids.country.value_counts(normalize=True)"
   ]
  },
  {
   "cell_type": "code",
   "execution_count": 78,
   "metadata": {
    "scrolled": false
   },
   "outputs": [
    {
     "data": {
      "text/html": [
       "<div>\n",
       "<style>\n",
       "    .dataframe thead tr:only-child th {\n",
       "        text-align: right;\n",
       "    }\n",
       "\n",
       "    .dataframe thead th {\n",
       "        text-align: left;\n",
       "    }\n",
       "\n",
       "    .dataframe tbody tr th {\n",
       "        vertical-align: top;\n",
       "    }\n",
       "</style>\n",
       "<table border=\"1\" class=\"dataframe\">\n",
       "  <thead>\n",
       "    <tr style=\"text-align: right;\">\n",
       "      <th></th>\n",
       "      <th>id</th>\n",
       "      <th>country</th>\n",
       "    </tr>\n",
       "  </thead>\n",
       "  <tbody>\n",
       "    <tr>\n",
       "      <th>0</th>\n",
       "      <td>5uwns89zht</td>\n",
       "      <td>NDF</td>\n",
       "    </tr>\n",
       "    <tr>\n",
       "      <th>1</th>\n",
       "      <td>jtl0dijy2j</td>\n",
       "      <td>NDF</td>\n",
       "    </tr>\n",
       "    <tr>\n",
       "      <th>2</th>\n",
       "      <td>xx0ulgorjt</td>\n",
       "      <td>NDF</td>\n",
       "    </tr>\n",
       "    <tr>\n",
       "      <th>3</th>\n",
       "      <td>6c6puo6ix0</td>\n",
       "      <td>NDF</td>\n",
       "    </tr>\n",
       "    <tr>\n",
       "      <th>4</th>\n",
       "      <td>czqhjk3yfe</td>\n",
       "      <td>NDF</td>\n",
       "    </tr>\n",
       "  </tbody>\n",
       "</table>\n",
       "</div>"
      ],
      "text/plain": [
       "           id country\n",
       "0  5uwns89zht     NDF\n",
       "1  jtl0dijy2j     NDF\n",
       "2  xx0ulgorjt     NDF\n",
       "3  6c6puo6ix0     NDF\n",
       "4  czqhjk3yfe     NDF"
      ]
     },
     "execution_count": 78,
     "metadata": {},
     "output_type": "execute_result"
    }
   ],
   "source": [
    "test_ids.head()"
   ]
  },
  {
   "cell_type": "code",
   "execution_count": 79,
   "metadata": {
    "collapsed": true,
    "scrolled": false
   },
   "outputs": [],
   "source": [
    "test_ids.to_csv('submission1.csv', index=False)"
   ]
  },
  {
   "cell_type": "markdown",
   "metadata": {},
   "source": [
    "**Attempting a Neural Net**"
   ]
  },
  {
   "cell_type": "markdown",
   "metadata": {
    "collapsed": true
   },
   "source": [
    "from keras.models import Sequential\n",
    "from keras.layers import Dense, Activation, Dropout, BatchNormalization\n",
    "from keras.utils import np_utils\n",
    "from keras.datasets import mnist\n",
    "from sklearn.metrics import confusion_matrix\n",
    "import numpy as np\n",
    "from __future__ import division"
   ]
  },
  {
   "cell_type": "markdown",
   "metadata": {
    "collapsed": true
   },
   "source": [
    "model = Sequential([\n",
    "    Dense(128, input_shape=(784,), activation='elu', kernel_initializer='he_normal'),\n",
    "    BatchNormalization(),\n",
    "    Dropout(0.5),\n",
    "    Dense(64, activation='elu', kernel_initializer='he_normal'),\n",
    "    BatchNormalization(),\n",
    "    Dropout(0.5),\n",
    "    Dense(10, activation='softmax')\n",
    "])"
   ]
  },
  {
   "cell_type": "markdown",
   "metadata": {
    "collapsed": true
   },
   "source": [
    "model.compile(optimizer='adam',\n",
    "              loss='categorical_crossentropy')"
   ]
  },
  {
   "cell_type": "markdown",
   "metadata": {
    "collapsed": true
   },
   "source": [
    "model.fit(x_train, y_train, epochs=20, batch_size=64, validation_split=0.1)"
   ]
  },
  {
   "cell_type": "markdown",
   "metadata": {
    "collapsed": true
   },
   "source": [
    "test_predictions = np.argmax(model.predict(x_test),1)\n",
    "y_test_sparse = np.argmax(y_test, 1)"
   ]
  },
  {
   "cell_type": "markdown",
   "metadata": {
    "collapsed": true
   },
   "source": [
    "confusion_matrix(y_test_sparse, test_predictions)"
   ]
  },
  {
   "cell_type": "markdown",
   "metadata": {
    "collapsed": true
   },
   "source": [
    "np.sum(y_test_sparse == test_predictions) / test_predictions.shape"
   ]
  }
 ],
 "metadata": {
  "kernelspec": {
   "display_name": "Python 3",
   "language": "python",
   "name": "python3"
  },
  "language_info": {
   "codemirror_mode": {
    "name": "ipython",
    "version": 3
   },
   "file_extension": ".py",
   "mimetype": "text/x-python",
   "name": "python",
   "nbconvert_exporter": "python",
   "pygments_lexer": "ipython3",
   "version": "3.6.4"
  }
 },
 "nbformat": 4,
 "nbformat_minor": 2
}
