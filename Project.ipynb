{
 "cells": [
  {
   "cell_type": "markdown",
   "metadata": {},
   "source": [
    "# Beating Airbnb: Predicting New User Bookings"
   ]
  },
  {
   "cell_type": "markdown",
   "metadata": {},
   "source": [
    "## Team Members\n",
    "\n",
    "- Alex Fabiano \n",
    "- Michael Clawson\n",
    "- Elijah Broadbent "
   ]
  },
  {
   "cell_type": "markdown",
   "metadata": {},
   "source": [
    "\n",
    "## Problem Statement\n",
    "\n",
    "\n",
    "\n",
    "With 34,000+ cities across 190+ countries, Airbnb users have a multitude of destinations from which to choose.  This vast array of possibilities creates problems for both users and Airbnb. New users may suffer choice overload and prolong their first booking. Irregular and prolonged first bookings can cause demand lags and inhibit demand predictability for Airbnb.\n",
    "\t\n",
    "The goal of this data project is to accurately predict where new users will book their first Airbnb. This will enable Airbnb to share more personalized content and better forecast demand as well as improve user experience.\n"
   ]
  },
  {
   "cell_type": "markdown",
   "metadata": {},
   "source": [
    "## Importance\n",
    "\n",
    "The problem of advertising is often posed as follows: 'We have found that half of advertising is effective-- the challenge comes in finding out which half.'  In the United States, over \\$300 Billion is spent on advertising each year.  If you believe the folk wisdom of advertisers (and a growing body of research on the subject), this means that roughly \\$150 Billion dollars is wasted each year in the US alone.  The burgeoning field of machine learning and data analytics can help trim into this waste by directing companies to marketing that is more precisely targeted towards those users most likely to be responsive to marketing and thus more likely to invest time and money into a developed product.  Even a 10% improvement on this 50/50 ratio of effective advertising could mean billions of dollars saved in marketing."
   ]
  },
  {
   "cell_type": "markdown",
   "metadata": {},
   "source": [
    "## Strategy\n",
    "\n",
    "After some data cleaning and feature engineering, we will use a K-Neighbors Classifier to get a naive baseline for our classification problem. From there we will modify our cleaning as needed to account for outliers, missing data, and optimal control variables in a more robust fashion. Other models we plan to consult include Random Forest and Gradient Boosting."
   ]
  },
  {
   "cell_type": "markdown",
   "metadata": {},
   "source": [
    "## Data"
   ]
  },
  {
   "cell_type": "code",
   "execution_count": 1,
   "metadata": {
    "collapsed": true,
    "scrolled": false
   },
   "outputs": [],
   "source": [
    "import pandas as pd\n",
    "import numpy as np\n",
    "import seaborn as sns\n",
    "from matplotlib import pyplot as plt\n",
    "%matplotlib inline\n",
    "from sklearn.model_selection import GridSearchCV, train_test_split\n",
    "from sklearn.preprocessing import StandardScaler\n",
    "from sklearn.neighbors import KNeighborsClassifier\n",
    "from sklearn.ensemble import RandomForestClassifier\n",
    "import xgboost as xgb\n",
    "from sklearn import metrics\n",
    "import datetime\n",
    "import calendar\n",
    "import warnings\n",
    "warnings.filterwarnings('ignore')\n",
    "plt.rcParams['figure.figsize'] = [10,8]"
   ]
  },
  {
   "cell_type": "markdown",
   "metadata": {},
   "source": [
    "Let's read in our data and take a look at our user set:"
   ]
  },
  {
   "cell_type": "code",
   "execution_count": 2,
   "metadata": {
    "collapsed": true,
    "scrolled": false
   },
   "outputs": [],
   "source": [
    "test = pd.read_csv('test_users.csv')\n",
    "users = pd.read_csv('train_users_2.csv')"
   ]
  },
  {
   "cell_type": "code",
   "execution_count": 3,
   "metadata": {
    "scrolled": false
   },
   "outputs": [
    {
     "data": {
      "text/html": [
       "<div>\n",
       "<style>\n",
       "    .dataframe thead tr:only-child th {\n",
       "        text-align: right;\n",
       "    }\n",
       "\n",
       "    .dataframe thead th {\n",
       "        text-align: left;\n",
       "    }\n",
       "\n",
       "    .dataframe tbody tr th {\n",
       "        vertical-align: top;\n",
       "    }\n",
       "</style>\n",
       "<table border=\"1\" class=\"dataframe\">\n",
       "  <thead>\n",
       "    <tr style=\"text-align: right;\">\n",
       "      <th></th>\n",
       "      <th>id</th>\n",
       "      <th>date_account_created</th>\n",
       "      <th>timestamp_first_active</th>\n",
       "      <th>date_first_booking</th>\n",
       "      <th>gender</th>\n",
       "      <th>age</th>\n",
       "      <th>signup_method</th>\n",
       "      <th>signup_flow</th>\n",
       "      <th>language</th>\n",
       "      <th>affiliate_channel</th>\n",
       "      <th>affiliate_provider</th>\n",
       "      <th>first_affiliate_tracked</th>\n",
       "      <th>signup_app</th>\n",
       "      <th>first_device_type</th>\n",
       "      <th>first_browser</th>\n",
       "      <th>country_destination</th>\n",
       "    </tr>\n",
       "  </thead>\n",
       "  <tbody>\n",
       "    <tr>\n",
       "      <th>0</th>\n",
       "      <td>gxn3p5htnn</td>\n",
       "      <td>2010-06-28</td>\n",
       "      <td>20090319043255</td>\n",
       "      <td>NaN</td>\n",
       "      <td>-unknown-</td>\n",
       "      <td>NaN</td>\n",
       "      <td>facebook</td>\n",
       "      <td>0</td>\n",
       "      <td>en</td>\n",
       "      <td>direct</td>\n",
       "      <td>direct</td>\n",
       "      <td>untracked</td>\n",
       "      <td>Web</td>\n",
       "      <td>Mac Desktop</td>\n",
       "      <td>Chrome</td>\n",
       "      <td>NDF</td>\n",
       "    </tr>\n",
       "    <tr>\n",
       "      <th>1</th>\n",
       "      <td>820tgsjxq7</td>\n",
       "      <td>2011-05-25</td>\n",
       "      <td>20090523174809</td>\n",
       "      <td>NaN</td>\n",
       "      <td>MALE</td>\n",
       "      <td>38.0</td>\n",
       "      <td>facebook</td>\n",
       "      <td>0</td>\n",
       "      <td>en</td>\n",
       "      <td>seo</td>\n",
       "      <td>google</td>\n",
       "      <td>untracked</td>\n",
       "      <td>Web</td>\n",
       "      <td>Mac Desktop</td>\n",
       "      <td>Chrome</td>\n",
       "      <td>NDF</td>\n",
       "    </tr>\n",
       "    <tr>\n",
       "      <th>2</th>\n",
       "      <td>4ft3gnwmtx</td>\n",
       "      <td>2010-09-28</td>\n",
       "      <td>20090609231247</td>\n",
       "      <td>2010-08-02</td>\n",
       "      <td>FEMALE</td>\n",
       "      <td>56.0</td>\n",
       "      <td>basic</td>\n",
       "      <td>3</td>\n",
       "      <td>en</td>\n",
       "      <td>direct</td>\n",
       "      <td>direct</td>\n",
       "      <td>untracked</td>\n",
       "      <td>Web</td>\n",
       "      <td>Windows Desktop</td>\n",
       "      <td>IE</td>\n",
       "      <td>US</td>\n",
       "    </tr>\n",
       "    <tr>\n",
       "      <th>3</th>\n",
       "      <td>bjjt8pjhuk</td>\n",
       "      <td>2011-12-05</td>\n",
       "      <td>20091031060129</td>\n",
       "      <td>2012-09-08</td>\n",
       "      <td>FEMALE</td>\n",
       "      <td>42.0</td>\n",
       "      <td>facebook</td>\n",
       "      <td>0</td>\n",
       "      <td>en</td>\n",
       "      <td>direct</td>\n",
       "      <td>direct</td>\n",
       "      <td>untracked</td>\n",
       "      <td>Web</td>\n",
       "      <td>Mac Desktop</td>\n",
       "      <td>Firefox</td>\n",
       "      <td>other</td>\n",
       "    </tr>\n",
       "    <tr>\n",
       "      <th>4</th>\n",
       "      <td>87mebub9p4</td>\n",
       "      <td>2010-09-14</td>\n",
       "      <td>20091208061105</td>\n",
       "      <td>2010-02-18</td>\n",
       "      <td>-unknown-</td>\n",
       "      <td>41.0</td>\n",
       "      <td>basic</td>\n",
       "      <td>0</td>\n",
       "      <td>en</td>\n",
       "      <td>direct</td>\n",
       "      <td>direct</td>\n",
       "      <td>untracked</td>\n",
       "      <td>Web</td>\n",
       "      <td>Mac Desktop</td>\n",
       "      <td>Chrome</td>\n",
       "      <td>US</td>\n",
       "    </tr>\n",
       "  </tbody>\n",
       "</table>\n",
       "</div>"
      ],
      "text/plain": [
       "           id date_account_created  timestamp_first_active date_first_booking  \\\n",
       "0  gxn3p5htnn           2010-06-28          20090319043255                NaN   \n",
       "1  820tgsjxq7           2011-05-25          20090523174809                NaN   \n",
       "2  4ft3gnwmtx           2010-09-28          20090609231247         2010-08-02   \n",
       "3  bjjt8pjhuk           2011-12-05          20091031060129         2012-09-08   \n",
       "4  87mebub9p4           2010-09-14          20091208061105         2010-02-18   \n",
       "\n",
       "      gender   age signup_method  signup_flow language affiliate_channel  \\\n",
       "0  -unknown-   NaN      facebook            0       en            direct   \n",
       "1       MALE  38.0      facebook            0       en               seo   \n",
       "2     FEMALE  56.0         basic            3       en            direct   \n",
       "3     FEMALE  42.0      facebook            0       en            direct   \n",
       "4  -unknown-  41.0         basic            0       en            direct   \n",
       "\n",
       "  affiliate_provider first_affiliate_tracked signup_app first_device_type  \\\n",
       "0             direct               untracked        Web       Mac Desktop   \n",
       "1             google               untracked        Web       Mac Desktop   \n",
       "2             direct               untracked        Web   Windows Desktop   \n",
       "3             direct               untracked        Web       Mac Desktop   \n",
       "4             direct               untracked        Web       Mac Desktop   \n",
       "\n",
       "  first_browser country_destination  \n",
       "0        Chrome                 NDF  \n",
       "1        Chrome                 NDF  \n",
       "2            IE                  US  \n",
       "3       Firefox               other  \n",
       "4        Chrome                  US  "
      ]
     },
     "execution_count": 3,
     "metadata": {},
     "output_type": "execute_result"
    }
   ],
   "source": [
    "users.head()"
   ]
  },
  {
   "cell_type": "markdown",
   "metadata": {},
   "source": [
    "Before inspecting our data we will perform a train/test split for purposes of cross-validation.  We should make this split before examining our features to avoid training our model with any knowledge of our test-split set."
   ]
  },
  {
   "cell_type": "markdown",
   "metadata": {},
   "source": [
    "**Make Train/Test Splits**\n",
    "\n",
    "We plan on trying 2 different modeling approaches. The first of which is two-fold; the first stage model will predict booking status, meaning whether or not someone books, and the second stage model predicts in which country a user will book given that they are predicted to book. Our second approach involves a single stage model that treats 'NDF', no destination finalized, as its own class. The latter 2 data splits will occur after the the intitial cleaning to minimize the amount of code."
   ]
  },
  {
   "cell_type": "code",
   "execution_count": 4,
   "metadata": {
    "collapsed": true,
    "scrolled": false
   },
   "outputs": [],
   "source": [
    "#Create variable for whether a user booked at all\n",
    "users['Booked?'] = np.where(users['date_first_booking'].isnull(), 0, 1) \n",
    "target = users['Booked?']\n",
    "target2 = users['country_destination']\n",
    "xtrain, xtest, ytrain, ytest = train_test_split(users.copy(), target, test_size=0.2, random_state=42)"
   ]
  },
  {
   "cell_type": "markdown",
   "metadata": {},
   "source": [
    "We can now chart and examine where people are booking most often.  This will give us a feel for what approach will serve us best in working with our data."
   ]
  },
  {
   "cell_type": "code",
   "execution_count": 5,
   "metadata": {
    "scrolled": false
   },
   "outputs": [
    {
     "ename": "NameError",
     "evalue": "name 'ytrain2' is not defined",
     "output_type": "error",
     "traceback": [
      "\u001b[0;31m---------------------------------------------------------------------------\u001b[0m",
      "\u001b[0;31mNameError\u001b[0m                                 Traceback (most recent call last)",
      "\u001b[0;32m<ipython-input-5-ff4543c6c00d>\u001b[0m in \u001b[0;36m<module>\u001b[0;34m()\u001b[0m\n\u001b[0;32m----> 1\u001b[0;31m \u001b[0max\u001b[0m \u001b[0;34m=\u001b[0m \u001b[0msns\u001b[0m\u001b[0;34m.\u001b[0m\u001b[0mbarplot\u001b[0m\u001b[0;34m(\u001b[0m\u001b[0mx\u001b[0m\u001b[0;34m=\u001b[0m\u001b[0mytrain2\u001b[0m\u001b[0;34m,\u001b[0m \u001b[0my\u001b[0m\u001b[0;34m=\u001b[0m\u001b[0mxtrain2\u001b[0m\u001b[0;34m[\u001b[0m\u001b[0;34m\"signup_flow\"\u001b[0m\u001b[0;34m]\u001b[0m\u001b[0;34m,\u001b[0m \u001b[0mestimator\u001b[0m\u001b[0;34m=\u001b[0m\u001b[0;32mlambda\u001b[0m \u001b[0mx\u001b[0m\u001b[0;34m:\u001b[0m \u001b[0mlen\u001b[0m\u001b[0;34m(\u001b[0m\u001b[0mx\u001b[0m\u001b[0;34m)\u001b[0m \u001b[0;34m/\u001b[0m \u001b[0mlen\u001b[0m\u001b[0;34m(\u001b[0m\u001b[0musers\u001b[0m\u001b[0;34m)\u001b[0m \u001b[0;34m*\u001b[0m \u001b[0;36m100\u001b[0m\u001b[0;34m)\u001b[0m\u001b[0;34m\u001b[0m\u001b[0m\n\u001b[0m\u001b[1;32m      2\u001b[0m \u001b[0mplt\u001b[0m\u001b[0;34m.\u001b[0m\u001b[0mtitle\u001b[0m\u001b[0;34m(\u001b[0m\u001b[0;34m\"Booking Frequency by Destination\"\u001b[0m\u001b[0;34m,\u001b[0m \u001b[0mfontsize\u001b[0m\u001b[0;34m=\u001b[0m\u001b[0;36m18\u001b[0m\u001b[0;34m,\u001b[0m \u001b[0mfontweight\u001b[0m\u001b[0;34m=\u001b[0m\u001b[0;34m'bold'\u001b[0m\u001b[0;34m)\u001b[0m\u001b[0;34m\u001b[0m\u001b[0m\n\u001b[1;32m      3\u001b[0m \u001b[0mplt\u001b[0m\u001b[0;34m.\u001b[0m\u001b[0mxlabel\u001b[0m\u001b[0;34m(\u001b[0m\u001b[0;34m\"Country Destination\"\u001b[0m\u001b[0;34m,\u001b[0m\u001b[0mfontsize\u001b[0m\u001b[0;34m=\u001b[0m\u001b[0;36m14\u001b[0m\u001b[0;34m)\u001b[0m\u001b[0;34m\u001b[0m\u001b[0m\n\u001b[1;32m      4\u001b[0m \u001b[0mplt\u001b[0m\u001b[0;34m.\u001b[0m\u001b[0mylabel\u001b[0m\u001b[0;34m(\u001b[0m\u001b[0;34m\"Percent\"\u001b[0m\u001b[0;34m,\u001b[0m \u001b[0mfontsize\u001b[0m\u001b[0;34m=\u001b[0m\u001b[0;36m14\u001b[0m\u001b[0;34m)\u001b[0m\u001b[0;34m\u001b[0m\u001b[0m\n\u001b[1;32m      5\u001b[0m \u001b[0;31m#Here we pass 'signup_flow as the y variable simply because it is a numeric variable.\u001b[0m\u001b[0;34m\u001b[0m\u001b[0;34m\u001b[0m\u001b[0m\n",
      "\u001b[0;31mNameError\u001b[0m: name 'ytrain2' is not defined"
     ]
    }
   ],
   "source": [
    "ax = sns.barplot(x=ytrain2, y=xtrain2[\"signup_flow\"], estimator=lambda x: len(x) / len(users) * 100)\n",
    "plt.title(\"Booking Frequency by Destination\", fontsize=18, fontweight='bold')\n",
    "plt.xlabel(\"Country Destination\",fontsize=14)\n",
    "plt.ylabel(\"Percent\", fontsize=14)\n",
    "#Here we pass 'signup_flow as the y variable simply because it is a numeric variable.  \n",
    "#This allows us to normalize the barchart for country_destination counts and checks out with the percentage values \n",
    "#obtained from our value_counts command in a previous version."
   ]
  },
  {
   "cell_type": "markdown",
   "metadata": {},
   "source": [
    "NDF stands for No Destination Finalized.  It appears that nearly 60% of the domestic users in our data set ultimately exit the browsing session without making a booking.  Of the users who do book, the majority choose to visit other locations within the United States.  To predict what bookings users will make, we will emoploy a tiered approach by first creating a model designed to predict whether a user chooses to book a destination.  We will then make use of this prediction to inform a second model predicting where users choose to book."
   ]
  },
  {
   "cell_type": "markdown",
   "metadata": {
    "collapsed": true
   },
   "source": [
    "By splitting training data into two pieces we will be able to train our model to run properly on the first piece and then test it on the second to gauge how our model performs out of sample.  We can now inspect the training split more closely to prepare it for analysis."
   ]
  },
  {
   "cell_type": "markdown",
   "metadata": {},
   "source": [
    "## Data Cleaning and Feature Engineering"
   ]
  },
  {
   "cell_type": "markdown",
   "metadata": {},
   "source": [
    "Let's take a look our data types:"
   ]
  },
  {
   "cell_type": "code",
   "execution_count": 6,
   "metadata": {
    "scrolled": false
   },
   "outputs": [
    {
     "data": {
      "text/plain": [
       "id                          object\n",
       "date_account_created        object\n",
       "timestamp_first_active       int64\n",
       "date_first_booking          object\n",
       "gender                      object\n",
       "age                        float64\n",
       "signup_method               object\n",
       "signup_flow                  int64\n",
       "language                    object\n",
       "affiliate_channel           object\n",
       "affiliate_provider          object\n",
       "first_affiliate_tracked     object\n",
       "signup_app                  object\n",
       "first_device_type           object\n",
       "first_browser               object\n",
       "country_destination         object\n",
       "Booked?                      int64\n",
       "dtype: object"
      ]
     },
     "execution_count": 6,
     "metadata": {},
     "output_type": "execute_result"
    }
   ],
   "source": [
    "xtrain.dtypes"
   ]
  },
  {
   "cell_type": "markdown",
   "metadata": {},
   "source": [
    "We have a lot of object types in our data that will need to be transformed if we choose to use them.  Let's set aside the variables we want to drop and the ones we want to convert into dummy variables."
   ]
  },
  {
   "cell_type": "code",
   "execution_count": 7,
   "metadata": {
    "collapsed": true,
    "scrolled": false
   },
   "outputs": [],
   "source": [
    "# Create drop and dummy arrays\n",
    "drop = []\n",
    "dummies = []"
   ]
  },
  {
   "cell_type": "code",
   "execution_count": 8,
   "metadata": {
    "scrolled": false
   },
   "outputs": [
    {
     "name": "stdout",
     "output_type": "stream",
     "text": [
      "Columns\t\t\t % Null\n"
     ]
    },
    {
     "data": {
      "text/plain": [
       "date_first_booking         0.583860\n",
       "age                        0.412573\n",
       "first_affiliate_tracked    0.028789\n",
       "dtype: float64"
      ]
     },
     "execution_count": 8,
     "metadata": {},
     "output_type": "execute_result"
    }
   ],
   "source": [
    "# Displays the columns with null values and the percent of null values for each column\n",
    "print(\"Columns\\t\\t\\t % Null\")\n",
    "xtrain[xtrain.columns[xtrain.isnull().any()]].isnull().sum()/len(xtrain)"
   ]
  },
  {
   "cell_type": "markdown",
   "metadata": {},
   "source": [
    "Date of booking null values indicate that no booking was ever made, so a high proportion of nulls in this category is no surprise. Age is the only glaring null-value issue with the data, as over 40% of values are missing. We may be able to find a way to fill these values with the average age conditional on the users other observable characteristics; e.g. female mac owners who use chrome."
   ]
  },
  {
   "cell_type": "code",
   "execution_count": 9,
   "metadata": {
    "collapsed": true,
    "scrolled": false
   },
   "outputs": [],
   "source": [
    "drop.extend(['Booked?','country_destination','id','date_first_booking'])"
   ]
  },
  {
   "cell_type": "markdown",
   "metadata": {},
   "source": [
    "Let's inspect each of these features, one by one."
   ]
  },
  {
   "cell_type": "markdown",
   "metadata": {},
   "source": [
    "**Date Account Created**"
   ]
  },
  {
   "cell_type": "code",
   "execution_count": 10,
   "metadata": {
    "scrolled": false
   },
   "outputs": [
    {
     "data": {
      "text/plain": [
       "139642    2014-01-09\n",
       "519       2010-05-04\n",
       "120664    2013-10-30\n",
       "84733     2013-06-18\n",
       "183255    2014-05-01\n",
       "Name: date_account_created, dtype: object"
      ]
     },
     "execution_count": 10,
     "metadata": {},
     "output_type": "execute_result"
    }
   ],
   "source": [
    "xtrain.date_account_created.head()# Need to extract usable variables"
   ]
  },
  {
   "cell_type": "markdown",
   "metadata": {},
   "source": [
    "We need to convert this variable into a date time so that we can extract the relevant information we need for analysis.  We will then create quantitative variables corresponding to year, month, and day of the week."
   ]
  },
  {
   "cell_type": "code",
   "execution_count": 11,
   "metadata": {
    "collapsed": true,
    "scrolled": false
   },
   "outputs": [],
   "source": [
    "xtrain.date_account_created = pd.to_datetime(xtrain.date_account_created) #Casts object as datetime\n",
    "xtest.date_account_created = pd.to_datetime(xtest.date_account_created)\n",
    "test.date_account_created = pd.to_datetime(test.date_account_created)"
   ]
  },
  {
   "cell_type": "code",
   "execution_count": 12,
   "metadata": {
    "collapsed": true,
    "scrolled": false
   },
   "outputs": [],
   "source": [
    "# Create indicators for day of week (0=Mon, 6=Sun) account was created\n",
    "xtrain['day_of_week_created'] = xtrain.date_account_created.dt.weekday\n",
    "xtest['day_of_week_created'] = xtest.date_account_created.dt.weekday\n",
    "test['day_of_week_created'] = test.date_account_created.dt.weekday\n",
    "# Create indicators for day of month (0 through 31)\n",
    "xtrain['day_of_month_created'] = xtrain['date_account_created'].dt.day\n",
    "xtest['day_of_month_created'] = xtest['date_account_created'].dt.day\n",
    "test['day_of_month_created'] = test['date_account_created'].dt.day\n",
    "# Creates indicators for month (0 through 12)\n",
    "xtrain['month_created'] = xtrain['date_account_created'].dt.month\n",
    "xtest['month_created'] = xtest['date_account_created'].dt.month\n",
    "test['month_created'] = test['date_account_created'].dt.month\n",
    "# Creates indicators for year account created\n",
    "xtrain['year_created'] = xtrain['date_account_created'].dt.year\n",
    "xtest['year_created'] = xtest['date_account_created'].dt.year\n",
    "test['year_created'] = test['date_account_created'].dt.year\n",
    "# Note that a function would not decrease the number of lines of code"
   ]
  },
  {
   "cell_type": "markdown",
   "metadata": {},
   "source": [
    "Let's visualize the month and day of the week variables we created."
   ]
  },
  {
   "cell_type": "code",
   "execution_count": 13,
   "metadata": {},
   "outputs": [
    {
     "data": {
      "image/png": "[encoded data removed]",
      "text/plain": [
       "<matplotlib.figure.Figure at 0x1a0ae413c8>"
      ]
     },
     "metadata": {},
     "output_type": "display_data"
    }
   ],
   "source": [
    "plt.figure(figsize=(15,6))\n",
    "plt.subplot(1,2,1)\n",
    "xtrain.day_of_week_created.value_counts(normalize=1).sort_index().plot(kind='bar',x=[0,1,2,3,4,5,6],color='#16A085')\n",
    "plt.title('Day of Week Account Created', fontsize=16,fontweight='bold')\n",
    "plt.xticks(np.arange(0,7,1),['Mon','Tues','Wed','Thurs','Fri','Sat','Sun'], rotation=0, fontsize=14)\n",
    "plt.ylabel('Frequency',fontsize=14)\n",
    "plt.subplot(1,2,2)\n",
    "xtrain.month_created.value_counts(normalize=1).sort_index().plot(kind='bar',x=np.arange(0,12,1))\n",
    "plt.title('Month Created',fontsize=16,fontweight='bold')\n",
    "plt.xticks(np.arange(0,12,1), calendar.month_abbr[1:],rotation=0,fontsize=14)\n",
    "plt.ylabel('Frequency',fontsize=14)\n",
    "plt.show()"
   ]
  },
  {
   "cell_type": "code",
   "execution_count": 14,
   "metadata": {
    "collapsed": true,
    "scrolled": false
   },
   "outputs": [],
   "source": [
    "drop.append('date_account_created')\n",
    "dummies.extend(['day_of_week_created'])"
   ]
  },
  {
   "cell_type": "markdown",
   "metadata": {},
   "source": [
    "In addition to deconstructing the date_account_created variable, we created a variable that measures how old the account is relative to the others. This is done by subtracting date_account_created by a new variable called \"today.\" Afterwards, these variables are added either to the dummy or the drop list."
   ]
  },
  {
   "cell_type": "code",
   "execution_count": 15,
   "metadata": {
    "collapsed": true,
    "scrolled": false
   },
   "outputs": [],
   "source": [
    "# Create a today variable, which we will turn into a datetime and subtract from our date_account_created var\n",
    "xtrain['today'] = datetime.date.today()\n",
    "xtest['today'] = datetime.date.today()\n",
    "test['today'] = datetime.date.today()\n",
    "xtrain.today = pd.to_datetime(xtrain.today)\n",
    "xtest.today = pd.to_datetime(xtest.today)\n",
    "test.today = pd.to_datetime(test.today)\n",
    "\n",
    "# Subtract today from date_account_created to get account_life\n",
    "xtrain['account_life'] = xtrain['today'].sub(xtrain['date_account_created'], axis=0)\n",
    "xtest['account_life'] = xtest['today'].sub(xtest['date_account_created'], axis=0)\n",
    "test['account_life'] = test['today'].sub(test['date_account_created'], axis=0)\n",
    "\n",
    "# Assign account_life var to 5 equal bins, will be created when it is appended to the dummy dataframe.\n",
    "xtrain['account_life_bins'] = pd.qcut(xtrain['account_life'], 5, labels=False)\n",
    "xtest['account_life_bins'] = pd.qcut(xtest['account_life'], 5, labels=False)\n",
    "test['account_life_bins'] = pd.qcut(test['account_life'], 5, labels=False)\n",
    "\n",
    "# Appending to dummies df\n",
    "dummies.append('account_life_bins')\n",
    "#drop unnecessary columns\n",
    "drop.extend(['today','account_life','date_account_created'])"
   ]
  },
  {
   "cell_type": "markdown",
   "metadata": {
    "collapsed": true
   },
   "source": [
    "**Gender**"
   ]
  },
  {
   "cell_type": "code",
   "execution_count": 16,
   "metadata": {
    "scrolled": false
   },
   "outputs": [
    {
     "data": {
      "text/plain": [
       "Text(0,0.5,'Proportion')"
      ]
     },
     "execution_count": 16,
     "metadata": {},
     "output_type": "execute_result"
    },
    {
     "data": {
      "image/png": "[encoded data removed]",
      "text/plain": [
       "<matplotlib.figure.Figure at 0x1a0b8fee48>"
      ]
     },
     "metadata": {},
     "output_type": "display_data"
    }
   ],
   "source": [
    "xtrain['gender'].value_counts(normalize=1).plot(kind='bar', color=[['grey','pink','#3570ce','red']])\n",
    "plt.title('User Gender', fontsize=16,fontweight='bold')\n",
    "plt.xlabel('Gender', fontsize=14)\n",
    "plt.xticks(rotation=0)\n",
    "plt.ylabel('Proportion', fontsize=14)"
   ]
  },
  {
   "cell_type": "markdown",
   "metadata": {},
   "source": [
    "From this plot we can determine that making dummies for unknown, male, and female would be a reasonable choice."
   ]
  },
  {
   "cell_type": "code",
   "execution_count": 17,
   "metadata": {
    "collapsed": true,
    "scrolled": false
   },
   "outputs": [],
   "source": [
    "dummies.append('gender')"
   ]
  },
  {
   "cell_type": "markdown",
   "metadata": {},
   "source": [
    "**Age**"
   ]
  },
  {
   "cell_type": "markdown",
   "metadata": {},
   "source": [
    "Age is likely to be a particularly important variable, since younger users will be more comfortable booking online reservations on average and older users often have more money to spend.  Let's dive in."
   ]
  },
  {
   "cell_type": "code",
   "execution_count": 18,
   "metadata": {
    "scrolled": false
   },
   "outputs": [
    {
     "data": {
      "text/plain": [
       "count    100309.000000\n",
       "mean         49.658186\n",
       "std         155.692226\n",
       "min           1.000000\n",
       "25%          28.000000\n",
       "50%          34.000000\n",
       "75%          43.000000\n",
       "max        2014.000000\n",
       "Name: age, dtype: float64"
      ]
     },
     "execution_count": 18,
     "metadata": {},
     "output_type": "execute_result"
    }
   ],
   "source": [
    "xtrain.age.describe()"
   ]
  },
  {
   "cell_type": "markdown",
   "metadata": {},
   "source": [
    "There are some very odd things that jump out from this description.  The max age is over 2000, the minimum age is 1, and our standard deviation is over 100.  To my knowledge Adam lived to be about 900 years old and the E-Trade baby only uses the internet to buy stocks.  Even if I'm wrong about this it is unlikely that either of these individuals is observed in our data.  Let's see how many of our users are outside of a believable range."
   ]
  },
  {
   "cell_type": "code",
   "execution_count": 19,
   "metadata": {
    "scrolled": false
   },
   "outputs": [
    {
     "name": "stdout",
     "output_type": "stream",
     "text": [
      "% Individuals older than 95: 0.0114\n",
      "% Individuals younger than 18: 0.0007\n"
     ]
    }
   ],
   "source": [
    "print(\"% Individuals older than 95: {}\".format(sum((xtrain.age > 95)/len(xtrain.age)).round(4)))\n",
    "print(\"% Individuals younger than 18: {}\".format((sum(xtrain.age < 18)/len(xtrain.age)).round(4)))"
   ]
  },
  {
   "cell_type": "markdown",
   "metadata": {},
   "source": [
    "According to the age distribution statistics, it appears that the data contains individuals with implausible ages exceeding 120 years. We may be better suited to only include individuals under the age of 100 in our analysis and modeling."
   ]
  },
  {
   "cell_type": "code",
   "execution_count": 20,
   "metadata": {
    "scrolled": false
   },
   "outputs": [
    {
     "data": {
      "text/plain": [
       "count    98327.000000\n",
       "mean        36.464582\n",
       "std         11.509192\n",
       "min          1.000000\n",
       "25%         28.000000\n",
       "50%         33.000000\n",
       "75%         42.000000\n",
       "max         94.000000\n",
       "Name: age, dtype: float64"
      ]
     },
     "execution_count": 20,
     "metadata": {},
     "output_type": "execute_result"
    }
   ],
   "source": [
    "# Statistics on individuals with age less than 95\n",
    "xtrain[xtrain.age<95]['age'].describe()"
   ]
  },
  {
   "cell_type": "markdown",
   "metadata": {},
   "source": [
    "As expected we see a much more reasonable distribution under this scenario."
   ]
  },
  {
   "cell_type": "code",
   "execution_count": 21,
   "metadata": {
    "scrolled": false
   },
   "outputs": [
    {
     "data": {
      "text/plain": [
       "Text(0.5,1,'Age Distribution')"
      ]
     },
     "execution_count": 21,
     "metadata": {},
     "output_type": "execute_result"
    },
    {
     "data": {
      "image/png": "[encoded data removed]",
      "text/plain": [
       "<matplotlib.figure.Figure at 0x1a0c0ebef0>"
      ]
     },
     "metadata": {},
     "output_type": "display_data"
    }
   ],
   "source": [
    "train_mean_age = xtrain[(xtrain.age<95) & (xtrain.age>18)].age.mean()\n",
    "sns.distplot(xtrain['age'].apply(lambda x : train_mean_age if x>95 or x < 18 else x).dropna(), color='#16A085')\n",
    "plt.xlabel('Age', fontsize=14)\n",
    "plt.ylabel('Percent', fontsize=14)\n",
    "plt.title('Age Distribution', fontsize=18, fontweight='bold')"
   ]
  },
  {
   "cell_type": "markdown",
   "metadata": {},
   "source": [
    "We can now recategorize implausible ages as null values so we can fill them in with something more reasonable.  We will randomly select values within one standard deviation of the mean age to fill in our null values."
   ]
  },
  {
   "cell_type": "code",
   "execution_count": 22,
   "metadata": {
    "collapsed": true,
    "scrolled": false
   },
   "outputs": [],
   "source": [
    "# Change all unusable ages to NaN:\n",
    "xtrain.loc[xtrain.age > 95, 'age'] = np.nan\n",
    "xtrain.loc[xtrain.age < 18, 'age'] = np.nan\n",
    "xtest.loc[xtest.age > 95, 'age'] = np.nan\n",
    "xtest.loc[xtest.age < 18, 'age'] = np.nan\n",
    "test.loc[test.age > 95, 'age'] = np.nan\n",
    "test.loc[test.age < 18, 'age'] = np.nan\n",
    "# Airbnb users must be 18 by law"
   ]
  },
  {
   "cell_type": "code",
   "execution_count": 23,
   "metadata": {
    "collapsed": true,
    "scrolled": false
   },
   "outputs": [],
   "source": [
    "# Here is a neat way to impute missing age values\n",
    "train_std_age = xtrain[(xtrain.age<95) & (xtrain.age>18)].age.std()\n",
    "# Generate random ages within one standard deviation of the mean for train, xtest, and test sets respectively\n",
    "rand1 = np.random.randint(train_mean_age-train_std_age, train_mean_age+train_std_age, size=xtrain.age.isnull().sum())\n",
    "rand2 = np.random.randint(train_mean_age-train_std_age, train_mean_age+train_std_age, size=xtest.age.isnull().sum())\n",
    "rand3 = np.random.randint(train_mean_age-train_std_age, train_mean_age+train_std_age, size=test.age.isnull().sum())"
   ]
  },
  {
   "cell_type": "code",
   "execution_count": 24,
   "metadata": {
    "collapsed": true,
    "scrolled": false
   },
   "outputs": [],
   "source": [
    "# Create a series to preserve the indices of NaNs\n",
    "xtrain['age'] = xtrain['age'].fillna(pd.Series(rand1, xtrain[xtrain.age.isnull()].index))\n",
    "xtest['age'] = xtest['age'].fillna(pd.Series(rand2, xtest[xtest.age.isnull()].index))\n",
    "test['age'] = test['age'].fillna(pd.Series(rand3, test[test.age.isnull()].index))"
   ]
  },
  {
   "cell_type": "markdown",
   "metadata": {},
   "source": [
    "Let's take a look what our ages look like now across each of our subpopulations."
   ]
  },
  {
   "cell_type": "code",
   "execution_count": 25,
   "metadata": {
    "scrolled": false
   },
   "outputs": [
    {
     "data": {
      "text/plain": [
       "Text(0.5,1,'Age Distribution by Destination')"
      ]
     },
     "execution_count": 25,
     "metadata": {},
     "output_type": "execute_result"
    },
    {
     "data": {
      "image/png": "[encoded data removed]",
      "text/plain": [
       "<matplotlib.figure.Figure at 0x1a0f349cc0>"
      ]
     },
     "metadata": {},
     "output_type": "display_data"
    }
   ],
   "source": [
    "fig, ax = plt.subplots(nrows=1, ncols=1,figsize=(15, 8))\n",
    "sns.boxplot(x='country_destination', y='age', data=xtrain, palette=\"GnBu_d\", ax =ax)\n",
    "ax.set_ylim([10, 100])\n",
    "plt.xlabel('Country Destination',fontsize=14)\n",
    "plt.ylabel('Age',fontsize=14)\n",
    "plt.title('Age Distribution by Destination',fontsize=16,fontweight='bold')"
   ]
  },
  {
   "cell_type": "markdown",
   "metadata": {},
   "source": [
    "**Signup Method**"
   ]
  },
  {
   "cell_type": "markdown",
   "metadata": {},
   "source": [
    "By now we are employing a similar approach to a lot of our features to what we have been doing previously and may begin to spare some of the details.  Here is a look at how users are signing up for Airbnb's service."
   ]
  },
  {
   "cell_type": "code",
   "execution_count": 26,
   "metadata": {
    "scrolled": false
   },
   "outputs": [
    {
     "data": {
      "text/plain": [
       "Text(0,0.5,'Proportion')"
      ]
     },
     "execution_count": 26,
     "metadata": {},
     "output_type": "execute_result"
    },
    {
     "data": {
      "image/png": "[encoded data removed]",
      "text/plain": [
       "<matplotlib.figure.Figure at 0x1a0f0ff630>"
      ]
     },
     "metadata": {},
     "output_type": "display_data"
    }
   ],
   "source": [
    "xtrain['signup_method'].value_counts(normalize=True, dropna=False).plot(kind='bar')\n",
    "plt.title('User Signup Method', fontsize=16,fontweight='bold')\n",
    "plt.xlabel('Method', fontsize=14)\n",
    "plt.xticks(rotation=0)\n",
    "plt.ylabel('Proportion', fontsize=14)"
   ]
  },
  {
   "cell_type": "code",
   "execution_count": 27,
   "metadata": {
    "collapsed": true,
    "scrolled": false
   },
   "outputs": [],
   "source": [
    "keep = ['basic','facebook','google']\n",
    "# Prevents columns contained in test set but not in training set from causing issues\n",
    "test.loc[~test.signup_method.isin(keep),'signup_method'] = np.nan"
   ]
  },
  {
   "cell_type": "code",
   "execution_count": 28,
   "metadata": {
    "collapsed": true
   },
   "outputs": [],
   "source": [
    "dummies.append('signup_method')"
   ]
  },
  {
   "cell_type": "markdown",
   "metadata": {},
   "source": [
    "Signup method proves to be a rather straightforward dummy case, and there are no null values to fill in for."
   ]
  },
  {
   "cell_type": "markdown",
   "metadata": {},
   "source": [
    "**Signup Flow**\n",
    "\n",
    "This feature indicates the Airbnb internet channel used by each user to sign up."
   ]
  },
  {
   "cell_type": "code",
   "execution_count": 29,
   "metadata": {
    "scrolled": false
   },
   "outputs": [
    {
     "data": {
      "text/plain": [
       "0     0.771598\n",
       "25    0.068880\n",
       "12    0.043816\n",
       "3     0.041210\n",
       "2     0.032109\n",
       "24    0.020502\n",
       "23    0.013147\n",
       "1     0.004878\n",
       "6     0.001482\n",
       "8     0.001113\n",
       "21    0.000925\n",
       "5     0.000170\n",
       "20    0.000070\n",
       "16    0.000047\n",
       "15    0.000041\n",
       "4     0.000006\n",
       "10    0.000006\n",
       "Name: signup_flow, dtype: float64"
      ]
     },
     "execution_count": 29,
     "metadata": {},
     "output_type": "execute_result"
    }
   ],
   "source": [
    "xtrain['signup_flow'].value_counts(normalize=True, dropna=False)"
   ]
  },
  {
   "cell_type": "code",
   "execution_count": 30,
   "metadata": {
    "collapsed": true
   },
   "outputs": [],
   "source": [
    "# Replace values consisting of less than 0.1% of the data with the 'signup_flow' mode, 0\n",
    "replace_vals = np.arange(1,25,1)\n",
    "xtrain.signup_flow.replace(to_replace=replace_vals, value='other', inplace=True)\n",
    "xtest.signup_flow.replace(to_replace=replace_vals, value='other', inplace=True)\n",
    "test.signup_flow.replace(to_replace=replace_vals, value='other', inplace=True)"
   ]
  },
  {
   "cell_type": "code",
   "execution_count": 31,
   "metadata": {
    "collapsed": true,
    "scrolled": false
   },
   "outputs": [],
   "source": [
    "dummies.append('signup_flow')"
   ]
  },
  {
   "cell_type": "markdown",
   "metadata": {},
   "source": [
    "**Language**"
   ]
  },
  {
   "cell_type": "code",
   "execution_count": 32,
   "metadata": {
    "scrolled": false
   },
   "outputs": [
    {
     "data": {
      "text/plain": [
       "(array([ 0. ,  0.2,  0.4,  0.6,  0.8,  1. ,  1.2]),\n",
       " <a list of 7 Text xticklabel objects>)"
      ]
     },
     "execution_count": 32,
     "metadata": {},
     "output_type": "execute_result"
    },
    {
     "data": {
      "image/png": "[encoded data removed]",
      "text/plain": [
       "<matplotlib.figure.Figure at 0x1a0dd72e48>"
      ]
     },
     "metadata": {},
     "output_type": "display_data"
    }
   ],
   "source": [
    "xtrain['language'].value_counts(normalize=1, dropna=1).plot(kind='barh')\n",
    "plt.title('User Language', fontsize=16,fontweight='bold')\n",
    "plt.ylabel('Language', fontsize=14)\n",
    "plt.xlabel('Proportion', fontsize=14)\n",
    "plt.xticks(fontsize=14)"
   ]
  },
  {
   "cell_type": "markdown",
   "metadata": {
    "collapsed": true
   },
   "source": [
    "Since 96% of all users speak English, the language variable may provide little insight. Still, we should make dummies for every language so that our model can translate well to different data."
   ]
  },
  {
   "cell_type": "code",
   "execution_count": 33,
   "metadata": {},
   "outputs": [],
   "source": [
    "keep2 = np.intersect1d(xtest.language.unique(),test.language.unique())\n",
    "xtrain.loc[~xtrain.language.isin(keep2),'language'] = np.nan\n",
    "xtest.loc[~xtest.language.isin(keep2),'language'] = np.nan"
   ]
  },
  {
   "cell_type": "code",
   "execution_count": 34,
   "metadata": {
    "collapsed": true,
    "scrolled": false
   },
   "outputs": [],
   "source": [
    "dummies.append('language')"
   ]
  },
  {
   "cell_type": "markdown",
   "metadata": {
    "collapsed": true
   },
   "source": [
    "**Affiliate Channel**"
   ]
  },
  {
   "cell_type": "code",
   "execution_count": 35,
   "metadata": {
    "scrolled": false
   },
   "outputs": [
    {
     "data": {
      "text/plain": [
       "Text(0,0.5,'Proportion')"
      ]
     },
     "execution_count": 35,
     "metadata": {},
     "output_type": "execute_result"
    },
    {
     "data": {
      "image/png": "[encoded data removed]",
      "text/plain": [
       "<matplotlib.figure.Figure at 0x1a0cc76710>"
      ]
     },
     "metadata": {},
     "output_type": "display_data"
    }
   ],
   "source": [
    "xtrain.affiliate_channel.value_counts(normalize=True, dropna=False).plot(kind='bar',color='#B22222')# note 'api' isn't in test data\n",
    "plt.title('Affiliate Channel', fontsize=16,fontweight='bold')\n",
    "plt.xlabel('Channel', fontsize=14)\n",
    "plt.xticks(rotation=0)\n",
    "plt.ylabel('Proportion', fontsize=14)"
   ]
  },
  {
   "cell_type": "markdown",
   "metadata": {},
   "source": [
    "Since there are values of affiliate_channel contained in the training data but not in the test data, we must restrict the values to those contained in the intersection of test and training data."
   ]
  },
  {
   "cell_type": "code",
   "execution_count": 36,
   "metadata": {
    "collapsed": true,
    "scrolled": false
   },
   "outputs": [],
   "source": [
    "keep3 = test.affiliate_channel.unique()\n",
    "xtrain.loc[~xtrain.affiliate_channel.isin(keep3),'affiliate_channel'] = np.nan\n",
    "xtest.loc[~xtest.affiliate_channel.isin(keep3),'affiliate_channel'] = np.nan"
   ]
  },
  {
   "cell_type": "code",
   "execution_count": 37,
   "metadata": {
    "collapsed": true,
    "scrolled": false
   },
   "outputs": [],
   "source": [
    "dummies.append('affiliate_channel')"
   ]
  },
  {
   "cell_type": "markdown",
   "metadata": {},
   "source": [
    "**Affiliate Provider**"
   ]
  },
  {
   "cell_type": "code",
   "execution_count": 38,
   "metadata": {
    "scrolled": false
   },
   "outputs": [
    {
     "data": {
      "text/plain": [
       "Text(0,0.5,'Proportion')"
      ]
     },
     "execution_count": 38,
     "metadata": {},
     "output_type": "execute_result"
    },
    {
     "data": {
      "image/png": "[encoded data removed]",
      "text/plain": [
       "<matplotlib.figure.Figure at 0x1a0cc76390>"
      ]
     },
     "metadata": {},
     "output_type": "display_data"
    }
   ],
   "source": [
    "xtrain.affiliate_provider.value_counts(normalize=True, dropna=False).plot(kind='barh')# note 'api' isn't in test data\n",
    "plt.title('Affiliate Provider', fontsize=16,fontweight='bold')\n",
    "plt.xlabel('Provider', fontsize=14)\n",
    "plt.xticks(rotation=0)\n",
    "plt.ylabel('Proportion', fontsize=14)"
   ]
  },
  {
   "cell_type": "code",
   "execution_count": 39,
   "metadata": {
    "collapsed": true,
    "scrolled": false
   },
   "outputs": [],
   "source": [
    "# Make dummies for the categories consisting of more than 3%\n",
    "keep4 = ['direct','google']\n",
    "xtrain.affiliate_provider = xtrain.affiliate_provider.apply(lambda x: x if str(x) in keep4 else 'other')\n",
    "xtest.affiliate_provider = xtest.affiliate_provider.apply(lambda x: x if str(x) in keep4 else 'other')\n",
    "test.affiliate_provider = test.affiliate_provider.apply(lambda x: x if str(x) in keep4 else 'other')\n",
    "\n",
    "dummies.append('affiliate_provider')"
   ]
  },
  {
   "cell_type": "markdown",
   "metadata": {},
   "source": [
    "**First Affiliate Tracked**\n",
    "\n",
    "First marketing interacted with by the user before signing up."
   ]
  },
  {
   "cell_type": "code",
   "execution_count": 40,
   "metadata": {
    "scrolled": false
   },
   "outputs": [
    {
     "data": {
      "text/plain": [
       "Text(0,0.5,'Proportion')"
      ]
     },
     "execution_count": 40,
     "metadata": {},
     "output_type": "execute_result"
    },
    {
     "data": {
      "image/png": "[encoded data removed]",
      "text/plain": [
       "<matplotlib.figure.Figure at 0x1a1da9eb00>"
      ]
     },
     "metadata": {},
     "output_type": "display_data"
    }
   ],
   "source": [
    "xtrain.first_affiliate_tracked.value_counts(normalize=True, dropna=False).plot(kind='bar',color='#B22222')# note 'api' isn't in test data\n",
    "plt.title('First Device Type', fontsize=16,fontweight='bold')\n",
    "plt.xlabel('Device', fontsize=14)\n",
    "plt.xticks(rotation=0)\n",
    "plt.ylabel('Proportion', fontsize=14)"
   ]
  },
  {
   "cell_type": "code",
   "execution_count": 41,
   "metadata": {
    "collapsed": true,
    "scrolled": false
   },
   "outputs": [],
   "source": [
    "# Fills null values with variable mode, which is 'untracked'\n",
    "xtrain.first_affiliate_tracked.fillna(value='{}'.format(xtrain.first_affiliate_tracked.mode()[0]),inplace=True)\n",
    "xtest.first_affiliate_tracked.fillna(value='{}'.format(xtrain.first_affiliate_tracked.mode()[0]),inplace=True)\n",
    "test.first_affiliate_tracked.fillna(value='{}'.format(xtrain.first_affiliate_tracked.mode()[0]),inplace=True)\n",
    "\n",
    "dummies.append('first_affiliate_tracked')"
   ]
  },
  {
   "cell_type": "markdown",
   "metadata": {},
   "source": [
    "**Signup App**"
   ]
  },
  {
   "cell_type": "code",
   "execution_count": 42,
   "metadata": {
    "scrolled": false
   },
   "outputs": [
    {
     "data": {
      "text/plain": [
       "Text(0,0.5,'Proportion')"
      ]
     },
     "execution_count": 42,
     "metadata": {},
     "output_type": "execute_result"
    },
    {
     "data": {
      "image/png": "[encoded data removed]",
      "text/plain": [
       "<matplotlib.figure.Figure at 0x1a1d5606d8>"
      ]
     },
     "metadata": {},
     "output_type": "display_data"
    }
   ],
   "source": [
    "xtrain.signup_app.value_counts(normalize=True, dropna=False).plot(kind='bar')# note 'api' isn't in test data\n",
    "plt.title('Signup Application', fontsize=16,fontweight='bold')\n",
    "plt.xlabel('App', fontsize=14)\n",
    "plt.xticks(rotation=0)\n",
    "plt.ylabel('Proportion', fontsize=14)"
   ]
  },
  {
   "cell_type": "code",
   "execution_count": 43,
   "metadata": {
    "collapsed": true,
    "scrolled": false
   },
   "outputs": [],
   "source": [
    "dummies.append('signup_app')"
   ]
  },
  {
   "cell_type": "markdown",
   "metadata": {},
   "source": [
    "**First Device Type**"
   ]
  },
  {
   "cell_type": "code",
   "execution_count": 44,
   "metadata": {
    "scrolled": false
   },
   "outputs": [
    {
     "data": {
      "text/plain": [
       "Text(0,0.5,'Proportion')"
      ]
     },
     "execution_count": 44,
     "metadata": {},
     "output_type": "execute_result"
    },
    {
     "data": {
      "image/png": "[encoded data removed]",
      "text/plain": [
       "<matplotlib.figure.Figure at 0x1a0c0c0eb8>"
      ]
     },
     "metadata": {},
     "output_type": "display_data"
    }
   ],
   "source": [
    "xtrain.first_device_type.value_counts(normalize=True, dropna=False).plot(kind='bar',color='#B22222')# note 'api' isn't in test data\n",
    "plt.title('First Device Type', fontsize=16,fontweight='bold')\n",
    "plt.xlabel('Device', fontsize=14)\n",
    "plt.xticks(rotation=0)\n",
    "plt.ylabel('Proportion', fontsize=14)"
   ]
  },
  {
   "cell_type": "code",
   "execution_count": 45,
   "metadata": {
    "collapsed": true,
    "scrolled": false
   },
   "outputs": [],
   "source": [
    "dummies.append('first_device_type')"
   ]
  },
  {
   "cell_type": "markdown",
   "metadata": {},
   "source": [
    "**First Browser**"
   ]
  },
  {
   "cell_type": "code",
   "execution_count": 46,
   "metadata": {
    "scrolled": false
   },
   "outputs": [
    {
     "data": {
      "text/plain": [
       "Text(0.5,0,'Proportion')"
      ]
     },
     "execution_count": 46,
     "metadata": {},
     "output_type": "execute_result"
    },
    {
     "data": {
      "image/png": "[encoded data removed]",
      "text/plain": [
       "<matplotlib.figure.Figure at 0x1a0c0a7160>"
      ]
     },
     "metadata": {},
     "output_type": "display_data"
    }
   ],
   "source": [
    "plt.figure(figsize=(10,10))\n",
    "xtrain['first_browser'].value_counts(normalize=1, dropna=1).plot(kind='barh')\n",
    "plt.title('First Browser', fontsize=16,fontweight='bold')\n",
    "plt.ylabel('Browser', fontsize=14)\n",
    "plt.xlabel('Proportion', fontsize=14)"
   ]
  },
  {
   "cell_type": "markdown",
   "metadata": {},
   "source": [
    "The vast majority of users have some version of Chrome, Firefox, or Safari."
   ]
  },
  {
   "cell_type": "code",
   "execution_count": 47,
   "metadata": {
    "collapsed": true,
    "scrolled": false
   },
   "outputs": [],
   "source": [
    "keep5 = ['Chrome', 'Safari', '-unknown-', 'Firefox', 'Mobile Safari', 'IE']\n",
    "xtrain.first_browser = xtrain.first_browser.apply(lambda x: x if str(x) in keep5 else 'other')\n",
    "xtest.first_browser = xtest.first_browser.apply(lambda x: x if str(x) in keep5 else 'other')\n",
    "test.first_browser = test.first_browser.apply(lambda x: x if str(x) in keep5 else 'other')"
   ]
  },
  {
   "cell_type": "code",
   "execution_count": 48,
   "metadata": {
    "collapsed": true,
    "scrolled": false
   },
   "outputs": [],
   "source": [
    "dummies.append('first_browser')"
   ]
  },
  {
   "cell_type": "code",
   "execution_count": 49,
   "metadata": {
    "collapsed": true,
    "scrolled": false
   },
   "outputs": [],
   "source": [
    "test_ids = test['id'].to_frame()"
   ]
  },
  {
   "cell_type": "code",
   "execution_count": 50,
   "metadata": {
    "scrolled": false
   },
   "outputs": [],
   "source": [
    "xtrain.drop(drop, axis=1, inplace=True)\n",
    "xtest.drop(drop, axis=1, inplace=True)\n",
    "test.drop(drop[2:], axis=1, inplace=True)"
   ]
  },
  {
   "cell_type": "code",
   "execution_count": 51,
   "metadata": {
    "collapsed": true,
    "scrolled": false
   },
   "outputs": [],
   "source": [
    "xtrain = pd.get_dummies(xtrain, columns=dummies, dummy_na=False)\n",
    "xtest = pd.get_dummies(xtest, columns=dummies, dummy_na=False)\n",
    "test = pd.get_dummies(test, columns=dummies, dummy_na=False)"
   ]
  },
  {
   "cell_type": "markdown",
   "metadata": {},
   "source": [
    "## Modeling"
   ]
  },
  {
   "cell_type": "markdown",
   "metadata": {},
   "source": [
    "### Binary Classification: To Book or Not to Book?"
   ]
  },
  {
   "cell_type": "markdown",
   "metadata": {},
   "source": [
    "We first create a binary classification model to predict whether or not an individual will book an Airbnb. Our second model will then classify to which country a user will first visit given that they book a trip."
   ]
  },
  {
   "cell_type": "markdown",
   "metadata": {},
   "source": [
    "#### K-Neighbors Classifier"
   ]
  },
  {
   "cell_type": "code",
   "execution_count": 52,
   "metadata": {
    "collapsed": true
   },
   "outputs": [],
   "source": [
    "kn_clf = KNeighborsClassifier()"
   ]
  },
  {
   "cell_type": "code",
   "execution_count": 57,
   "metadata": {
    "scrolled": false
   },
   "outputs": [
    {
     "name": "stdout",
     "output_type": "stream",
     "text": [
      "CPU times: user 8min 35s, sys: 11 s, total: 8min 46s\n",
      "Wall time: 8min 48s\n",
      "Best Parameters: {'n_neighbors': 9, 'p': 2, 'weights': 'uniform'}\n",
      "Training Accuracy Score: 0.6586261419536191\n",
      "Test Accuracy Score: 0.5426904968260289\n"
     ]
    }
   ],
   "source": [
    "gridsearch_kn = GridSearchCV(kn_clf, {\"n_neighbors\": [3,5,7,9], \"weights\": ['uniform', 'distance'],\n",
    "                                  \"p\":[1,2,3]})\n",
    "%time gridsearch_kn.fit(xtrain, ytrain)\n",
    "print(\"Best Parameters: {}\".format(gridsearch_kn.best_params_))\n",
    "knclf_ypredict_train = gridsearch_kn.predict(xtrain)\n",
    "print(\"Training Accuracy Score: {}\".format(metrics.accuracy_score(ytrain, knclf_ypredict_train)))\n",
    "knclf_ypredict_test = gridsearch_kn.predict(xtest)\n",
    "print(\"Test Accuracy Score: {}\".format(metrics.accuracy_score(ytest, knclf_ypredict_test)))"
   ]
  },
  {
   "cell_type": "markdown",
   "metadata": {},
   "source": [
    "The K-neighbors classifier serves as a good benchmark. It is by no means the most predictive model, but its results will give us lower bound on our predictive accuracy and a solid initial starting point. "
   ]
  },
  {
   "cell_type": "markdown",
   "metadata": {},
   "source": [
    "#### Random Forest"
   ]
  },
  {
   "cell_type": "markdown",
   "metadata": {},
   "source": [
    "Because of the nature of our data, Random Forest may be a particularly suitable model for this problem.  The destination classes in our data are highly imbalanced toward no destination and United States which makes it difficult to predict the occurrence of minority classes.  Due to the hierarchical structure of tree-based algorithms, Random Forest should be less sensitive to this issue."
   ]
  },
  {
   "cell_type": "code",
   "execution_count": 56,
   "metadata": {
    "collapsed": true,
    "scrolled": false
   },
   "outputs": [],
   "source": [
    "rf_clf = RandomForestClassifier()\n",
    "gridsearch_rf = GridSearchCV(rf_clf, {\"n_estimators\": [30,60,100,150], \"class_weight\": ['balanced', None],\n",
    "                                      \"max_depth\": [5,7,9,11]})"
   ]
  },
  {
   "cell_type": "code",
   "execution_count": 59,
   "metadata": {
    "scrolled": true
   },
   "outputs": [
    {
     "name": "stdout",
     "output_type": "stream",
     "text": [
      "CPU times: user 9min 48s, sys: 20.4 s, total: 10min 8s\n",
      "Wall time: 10min 11s\n",
      "Best Parameters: {'class_weight': None, 'max_depth': 11, 'n_estimators': 60}\n"
     ]
    }
   ],
   "source": [
    "%time gridsearch_rf.fit(xtrain, ytrain)\n",
    "print(\"Best Parameters: {}\".format(gridsearch_rf.best_params_))\n",
    "rfclf_ypredict_train = gridsearch_rf.predict(xtrain)"
   ]
  },
  {
   "cell_type": "code",
   "execution_count": 60,
   "metadata": {
    "scrolled": false
   },
   "outputs": [
    {
     "name": "stdout",
     "output_type": "stream",
     "text": [
      "Test Classification Report:\n",
      "             precision    recall  f1-score   support\n",
      "\n",
      "          0       0.68      0.80      0.74     24843\n",
      "          1       0.63      0.48      0.54     17848\n",
      "\n",
      "avg / total       0.66      0.67      0.66     42691\n",
      "\n",
      "Train Accuracy: 0.6784200046849379\n",
      "Test Accuracy: 0.6662294160361669\n"
     ]
    }
   ],
   "source": [
    "print(\"Test Classification Report:\")\n",
    "rfclf_ypredict_test = gridsearch_rf.predict(xtest)\n",
    "print(metrics.classification_report(ytest, rfclf_ypredict_test))\n",
    "\n",
    "print(\"Train Accuracy: {}\\nTest Accuracy: {}\".format(metrics.accuracy_score(ytrain, rfclf_ypredict_train),\n",
    "                                                    metrics.accuracy_score(ytest, rfclf_ypredict_test)))"
   ]
  },
  {
   "cell_type": "markdown",
   "metadata": {},
   "source": [
    "#### XGBoost"
   ]
  },
  {
   "cell_type": "code",
   "execution_count": 61,
   "metadata": {
    "collapsed": true,
    "scrolled": false
   },
   "outputs": [],
   "source": [
    "xgb_clf = xgb.XGBClassifier()"
   ]
  },
  {
   "cell_type": "code",
   "execution_count": 62,
   "metadata": {
    "collapsed": true,
    "scrolled": false
   },
   "outputs": [],
   "source": [
    "gridsearch_xgb = GridSearchCV(xgb_clf, {'n_estimators':[50,100,150],'max_depth':[3,5,7],'learning_rate':[.01,.05]})"
   ]
  },
  {
   "cell_type": "code",
   "execution_count": 60,
   "metadata": {
    "scrolled": false
   },
   "outputs": [
    {
     "name": "stdout",
     "output_type": "stream",
     "text": [
      "CPU times: user 37min 45s, sys: 10.7 s, total: 37min 56s\n",
      "Wall time: 38min 2s\n",
      "Best Parameters: {'learning_rate': 0.05, 'max_depth': 7, 'n_estimators': 100}\n"
     ]
    }
   ],
   "source": [
    "%time gridsearch_xgb.fit(xtrain, ytrain)\n",
    "print(\"Best Parameters: {}\".format(gridsearch_xgb.best_params_))"
   ]
  },
  {
   "cell_type": "code",
   "execution_count": 61,
   "metadata": {
    "collapsed": true,
    "scrolled": false
   },
   "outputs": [],
   "source": [
    "xgbclf_ypredict_train = gridsearch_xgb.predict(xtrain)"
   ]
  },
  {
   "cell_type": "code",
   "execution_count": 62,
   "metadata": {
    "scrolled": false
   },
   "outputs": [
    {
     "name": "stdout",
     "output_type": "stream",
     "text": [
      "Test Classification Report:\n",
      "             precision    recall  f1-score   support\n",
      "\n",
      "          0       0.69      0.79      0.74     24843\n",
      "          1       0.63      0.51      0.56     17848\n",
      "\n",
      "avg / total       0.67      0.67      0.66     42691\n",
      "\n",
      "Train Accuracy: 0.6782150386507378\n",
      "Test Accuracy: 0.6708439717973343\n"
     ]
    }
   ],
   "source": [
    "print(\"Test Classification Report:\")\n",
    "xgbclf_ypredict_test = gridsearch_xgb.predict(xtest)\n",
    "print(metrics.classification_report(ytest, xgbclf_ypredict_test))\n",
    "\n",
    "print(\"Train Accuracy: {}\\nTest Accuracy: {}\".format(metrics.accuracy_score(ytrain, xgbclf_ypredict_train),\n",
    "                                                    metrics.accuracy_score(ytest, xgbclf_ypredict_test)))"
   ]
  },
  {
   "cell_type": "markdown",
   "metadata": {},
   "source": [
    "XGBoost beat the k-neighbors classifier, but did not perform better than the Random Forest. Furthermore, the XGBoost took much longer to run in our case than the other models."
   ]
  },
  {
   "cell_type": "markdown",
   "metadata": {},
   "source": [
    "### Multiple Classification: Country Destination"
   ]
  },
  {
   "cell_type": "code",
   "execution_count": 53,
   "metadata": {
    "collapsed": true,
    "scrolled": false
   },
   "outputs": [],
   "source": [
    "# Selects xtrain indices from multiclass target2 and creates new ytrain series\n",
    "ytrain2 = target2[xtrain.index][target2!='NDF']\n",
    "xtrain2 = xtrain.loc[ytrain2.index]\n",
    "ytest2 = target2[xtest.index][target2!='NDF']\n",
    "xtest2 = xtest.loc[ytest2.index]"
   ]
  },
  {
   "cell_type": "markdown",
   "metadata": {},
   "source": [
    "#### K-Neighbors Classifier"
   ]
  },
  {
   "cell_type": "code",
   "execution_count": 54,
   "metadata": {
    "scrolled": false
   },
   "outputs": [
    {
     "name": "stdout",
     "output_type": "stream",
     "text": [
      "CPU times: user 2min 18s, sys: 3.31 s, total: 2min 21s\n",
      "Wall time: 2min 21s\n",
      "Best Parameters: {'n_neighbors': 9, 'p': 1, 'weights': 'uniform'}\n",
      "Training Accuracy Score: 0.7027160146355192\n",
      "Test Accuracy Score: 0.6949238009861048\n"
     ]
    }
   ],
   "source": [
    "gridsearch_kn2 = GridSearchCV(kn_clf, {\"n_neighbors\": [5,7,9], \"weights\": ['uniform', 'distance'],\n",
    "                                  \"p\":[1,2,3]})\n",
    "%time gridsearch_kn2.fit(xtrain2, ytrain2)\n",
    "print(\"Best Parameters: {}\".format(gridsearch_kn2.best_params_))\n",
    "knclf2_ypredict_train = gridsearch_kn2.predict(xtrain2)\n",
    "print(\"Training Accuracy Score: {}\".format(metrics.accuracy_score(ytrain2, knclf2_ypredict_train)))\n",
    "knclf2_ypredict_test = gridsearch_kn2.predict(xtest2)\n",
    "print(\"Test Accuracy Score: {}\".format(metrics.accuracy_score(ytest2, knclf2_ypredict_test)))"
   ]
  },
  {
   "cell_type": "markdown",
   "metadata": {},
   "source": [
    "#### Random Forest"
   ]
  },
  {
   "cell_type": "code",
   "execution_count": 57,
   "metadata": {},
   "outputs": [],
   "source": [
    "gridsearch_rf2  = GridSearchCV(rf_clf, {\"n_estimators\": [20,60,100], \"class_weight\": ['balanced', None],\n",
    "                                      \"max_depth\": [3,5,7]})"
   ]
  },
  {
   "cell_type": "code",
   "execution_count": 58,
   "metadata": {
    "scrolled": false
   },
   "outputs": [
    {
     "name": "stdout",
     "output_type": "stream",
     "text": [
      "CPU times: user 1min 16s, sys: 3.78 s, total: 1min 20s\n",
      "Wall time: 1min 20s\n",
      "Best Parameters: {'class_weight': None, 'max_depth': 3, 'n_estimators': 20}\n"
     ]
    }
   ],
   "source": [
    "%time gridsearch_rf2.fit(xtrain2, ytrain2)\n",
    "print(\"Best Parameters: {}\".format(gridsearch_rf2.best_params_))\n",
    "rfclf2_ypredict_train = gridsearch_rf2.predict(xtrain2)"
   ]
  },
  {
   "cell_type": "code",
   "execution_count": 59,
   "metadata": {
    "scrolled": false
   },
   "outputs": [
    {
     "name": "stdout",
     "output_type": "stream",
     "text": [
      "Train Accuracy: 0.7015339150014073\n",
      "Test Accuracy: 0.7017593007619901\n"
     ]
    }
   ],
   "source": [
    "rfclf2_ypredict_test = gridsearch_rf2.predict(xtest2)\n",
    "print(\"Train Accuracy: {}\\nTest Accuracy: {}\".format(metrics.accuracy_score(ytrain2, rfclf2_ypredict_train),\n",
    "                                                    metrics.accuracy_score(ytest2, rfclf2_ypredict_test)))"
   ]
  },
  {
   "cell_type": "markdown",
   "metadata": {},
   "source": [
    "### Single Stage Model"
   ]
  },
  {
   "cell_type": "markdown",
   "metadata": {},
   "source": [
    "We now combine our previous models into a single stage model in which we treat 'NDF', no destination finalized, as its own class to see if accuracy improves."
   ]
  },
  {
   "cell_type": "code",
   "execution_count": 60,
   "metadata": {
    "collapsed": true,
    "scrolled": false
   },
   "outputs": [],
   "source": [
    "# Selects xtrain indices from multiclass target2 and creates new ytrain series\n",
    "ytrain3 = target2[xtrain.index]\n",
    "xtrain3 = xtrain.loc[ytrain3.index]\n",
    "ytest3 = target2[xtest.index]\n",
    "xtest3 = xtest.loc[ytest3.index]"
   ]
  },
  {
   "cell_type": "code",
   "execution_count": 61,
   "metadata": {
    "collapsed": true
   },
   "outputs": [],
   "source": [
    "gridsearch_rf3  = GridSearchCV(rf_clf, {\"n_estimators\": [20,150,200], \"class_weight\": ['balanced', None],\n",
    "                                      \"max_depth\": [3,5,7,9]}, scoring='f1_weighted')"
   ]
  },
  {
   "cell_type": "code",
   "execution_count": 62,
   "metadata": {},
   "outputs": [
    {
     "name": "stdout",
     "output_type": "stream",
     "text": [
      "CPU times: user 10min 26s, sys: 29.6 s, total: 10min 56s\n",
      "Wall time: 10min 59s\n",
      "Best Parameters: {'class_weight': None, 'max_depth': 9, 'n_estimators': 200}\n"
     ]
    }
   ],
   "source": [
    "%time gridsearch_rf3.fit(xtrain3,ytrain3)\n",
    "print(\"Best Parameters: {}\".format(gridsearch_rf3.best_params_))\n",
    "rfclf3_ypredict_train = gridsearch_rf3.predict(xtrain3)"
   ]
  },
  {
   "cell_type": "code",
   "execution_count": 63,
   "metadata": {},
   "outputs": [
    {
     "name": "stdout",
     "output_type": "stream",
     "text": [
      "Train Accuracy: 0.6085031623330991\n",
      "Test Accuracy: 0.6019067250708581\n"
     ]
    }
   ],
   "source": [
    "rfclf3_ypredict_test = gridsearch_rf3.predict(xtest3)\n",
    "print(\"Train Accuracy: {}\\nTest Accuracy: {}\".format(metrics.accuracy_score(ytrain3, rfclf3_ypredict_train),\n",
    "                                                    metrics.accuracy_score(ytest3, rfclf3_ypredict_test)))"
   ]
  },
  {
   "cell_type": "code",
   "execution_count": 64,
   "metadata": {},
   "outputs": [
    {
     "name": "stdout",
     "output_type": "stream",
     "text": [
      "             precision    recall  f1-score   support\n",
      "\n",
      "         AU       0.00      0.00      0.00       114\n",
      "         CA       0.00      0.00      0.00       275\n",
      "         DE       0.00      0.00      0.00       208\n",
      "         ES       0.00      0.00      0.00       451\n",
      "         FR       0.00      0.00      0.00      1010\n",
      "         GB       0.00      0.00      0.00       497\n",
      "         IT       0.00      0.00      0.00       562\n",
      "        NDF       0.62      0.95      0.75     24843\n",
      "         NL       0.00      0.00      0.00       155\n",
      "         PT       0.00      0.00      0.00        45\n",
      "         US       0.49      0.18      0.26     12525\n",
      "      other       0.00      0.00      0.00      2006\n",
      "\n",
      "avg / total       0.50      0.60      0.51     42691\n",
      "\n"
     ]
    }
   ],
   "source": [
    "print(metrics.classification_report(ytest3, rfclf3_ypredict_test))"
   ]
  },
  {
   "cell_type": "markdown",
   "metadata": {},
   "source": [
    "To decrease the number of features and hopefully increase our predictive accuracy, we extract the feature importances from this random forest model to identify which features have the largest impact in correctly predicting our classes. We then trim down our data set to include only features that have at least a 'gini-importance' of 0.01 or above and rerun our random forest model on the reduced data."
   ]
  },
  {
   "cell_type": "code",
   "execution_count": 65,
   "metadata": {
    "collapsed": true
   },
   "outputs": [],
   "source": [
    "feats = {} # Dictionary of feature_name: feature_importance\n",
    "for feature, importance in zip(xtrain3.columns, gridsearch_rf3.best_estimator_.feature_importances_):\n",
    "    feats[feature] = importance #add the name/value pair to dictionary\n",
    "\n",
    "importances = pd.DataFrame.from_dict(feats, orient='index').rename(columns={0: 'Gini-importance'})"
   ]
  },
  {
   "cell_type": "code",
   "execution_count": 66,
   "metadata": {},
   "outputs": [
    {
     "data": {
      "text/plain": [
       "Text(0,0.5,'Gini Importance')"
      ]
     },
     "execution_count": 66,
     "metadata": {},
     "output_type": "execute_result"
    },
    {
     "data": {
      "image/png": "[encoded data removed]",
      "text/plain": [
       "<matplotlib.figure.Figure at 0x1a1e2f3860>"
      ]
     },
     "metadata": {},
     "output_type": "display_data"
    }
   ],
   "source": [
    "importances.sort_values(by='Gini-importance').plot(kind='bar', rot=90,figsize=(18,8))\n",
    "plt.title('Feature Importances', fontsize=18, fontweight='bold')\n",
    "plt.xticks(fontsize=12)\n",
    "plt.ylabel('Gini Importance', fontsize=14)"
   ]
  },
  {
   "cell_type": "code",
   "execution_count": 67,
   "metadata": {
    "collapsed": true
   },
   "outputs": [],
   "source": [
    "# Returns values whose gini importance is greater than 0.01\n",
    "top_features = importances[importances['Gini-importance']>0.01].index"
   ]
  },
  {
   "cell_type": "code",
   "execution_count": 68,
   "metadata": {
    "collapsed": true
   },
   "outputs": [],
   "source": [
    "xtop_train = xtrain[top_features]\n",
    "xtop_test = xtest[top_features]"
   ]
  },
  {
   "cell_type": "code",
   "execution_count": 70,
   "metadata": {
    "collapsed": true
   },
   "outputs": [],
   "source": [
    "gridsearch_rf4 = GridSearchCV(rf_clf, {\"n_estimators\": [20,50,100], \"class_weight\": ['balanced', None],\n",
    "                                      \"max_depth\": [3,5,7]}, scoring='f1_weighted')"
   ]
  },
  {
   "cell_type": "code",
   "execution_count": 71,
   "metadata": {},
   "outputs": [
    {
     "name": "stdout",
     "output_type": "stream",
     "text": [
      "CPU times: user 3min 18s, sys: 7.69 s, total: 3min 25s\n",
      "Wall time: 3min 26s\n",
      "Best Parameters: {'class_weight': None, 'max_depth': 7, 'n_estimators': 100}\n"
     ]
    }
   ],
   "source": [
    "%time gridsearch_rf4.fit(xtop_train,ytrain3)\n",
    "print(\"Best Parameters: {}\".format(gridsearch_rf4.best_params_))\n",
    "rfclf4_ypredict_train = gridsearch_rf4.predict(xtop_train)"
   ]
  },
  {
   "cell_type": "code",
   "execution_count": 72,
   "metadata": {},
   "outputs": [
    {
     "name": "stdout",
     "output_type": "stream",
     "text": [
      "Train Accuracy: 0.6085031623330991\n",
      "Test Accuracy: 0.6019067250708581\n"
     ]
    }
   ],
   "source": [
    "rfclf4_ypredict_test = gridsearch_rf4.predict(xtop_test)\n",
    "print(\"Train Accuracy: {}\\nTest Accuracy: {}\".format(metrics.accuracy_score(ytrain3, rfclf3_ypredict_train),\n",
    "                                                    metrics.accuracy_score(ytest3, rfclf3_ypredict_test)))"
   ]
  },
  {
   "cell_type": "markdown",
   "metadata": {},
   "source": [
    "## Predictions"
   ]
  },
  {
   "cell_type": "code",
   "execution_count": 81,
   "metadata": {
    "collapsed": true,
    "scrolled": false
   },
   "outputs": [],
   "source": [
    "# Binary classification model to predict which users will book\n",
    "book_predictions = gridsearch_rf.best_estimator_.predict(test)"
   ]
  },
  {
   "cell_type": "code",
   "execution_count": 73,
   "metadata": {
    "scrolled": false
   },
   "outputs": [
    {
     "data": {
      "text/plain": [
       "0    0.773061\n",
       "1    0.226939\n",
       "Name: Booked, dtype: float64"
      ]
     },
     "execution_count": 73,
     "metadata": {},
     "output_type": "execute_result"
    }
   ],
   "source": [
    "# Put the binary booked predictions into a dataframe\n",
    "predictions_df = pd.DataFrame(data=book_predictions, columns=['Booked'])\n",
    "predictions_df['Booked'].value_counts(normalize=True)"
   ]
  },
  {
   "cell_type": "code",
   "execution_count": 74,
   "metadata": {
    "collapsed": true,
    "scrolled": false
   },
   "outputs": [],
   "source": [
    "country_predictions = gridsearch_rf2.best_estimator_.predict(test)"
   ]
  },
  {
   "cell_type": "code",
   "execution_count": 75,
   "metadata": {
    "collapsed": true,
    "scrolled": false
   },
   "outputs": [],
   "source": [
    "test_ids['country'] = country_predictions"
   ]
  },
  {
   "cell_type": "code",
   "execution_count": 76,
   "metadata": {
    "collapsed": true,
    "scrolled": false
   },
   "outputs": [],
   "source": [
    "# Fills the users destination whom were predicted not to book with 'NDF' \n",
    "test_ids.loc[predictions_df[predictions_df['Booked']==0].index,'country'] = 'NDF'"
   ]
  },
  {
   "cell_type": "code",
   "execution_count": 77,
   "metadata": {
    "scrolled": false
   },
   "outputs": [
    {
     "data": {
      "text/plain": [
       "NDF    0.773061\n",
       "US     0.226939\n",
       "Name: country, dtype: float64"
      ]
     },
     "execution_count": 77,
     "metadata": {},
     "output_type": "execute_result"
    }
   ],
   "source": [
    "test_ids.country.value_counts(normalize=True)"
   ]
  },
  {
   "cell_type": "code",
   "execution_count": 78,
   "metadata": {
    "scrolled": false
   },
   "outputs": [
    {
     "data": {
      "text/html": [
       "<div>\n",
       "<style>\n",
       "    .dataframe thead tr:only-child th {\n",
       "        text-align: right;\n",
       "    }\n",
       "\n",
       "    .dataframe thead th {\n",
       "        text-align: left;\n",
       "    }\n",
       "\n",
       "    .dataframe tbody tr th {\n",
       "        vertical-align: top;\n",
       "    }\n",
       "</style>\n",
       "<table border=\"1\" class=\"dataframe\">\n",
       "  <thead>\n",
       "    <tr style=\"text-align: right;\">\n",
       "      <th></th>\n",
       "      <th>id</th>\n",
       "      <th>country</th>\n",
       "    </tr>\n",
       "  </thead>\n",
       "  <tbody>\n",
       "    <tr>\n",
       "      <th>0</th>\n",
       "      <td>5uwns89zht</td>\n",
       "      <td>NDF</td>\n",
       "    </tr>\n",
       "    <tr>\n",
       "      <th>1</th>\n",
       "      <td>jtl0dijy2j</td>\n",
       "      <td>NDF</td>\n",
       "    </tr>\n",
       "    <tr>\n",
       "      <th>2</th>\n",
       "      <td>xx0ulgorjt</td>\n",
       "      <td>NDF</td>\n",
       "    </tr>\n",
       "    <tr>\n",
       "      <th>3</th>\n",
       "      <td>6c6puo6ix0</td>\n",
       "      <td>NDF</td>\n",
       "    </tr>\n",
       "    <tr>\n",
       "      <th>4</th>\n",
       "      <td>czqhjk3yfe</td>\n",
       "      <td>NDF</td>\n",
       "    </tr>\n",
       "  </tbody>\n",
       "</table>\n",
       "</div>"
      ],
      "text/plain": [
       "           id country\n",
       "0  5uwns89zht     NDF\n",
       "1  jtl0dijy2j     NDF\n",
       "2  xx0ulgorjt     NDF\n",
       "3  6c6puo6ix0     NDF\n",
       "4  czqhjk3yfe     NDF"
      ]
     },
     "execution_count": 78,
     "metadata": {},
     "output_type": "execute_result"
    }
   ],
   "source": [
    "test_ids.head()"
   ]
  },
  {
   "cell_type": "code",
   "execution_count": 79,
   "metadata": {
    "collapsed": true,
    "scrolled": false
   },
   "outputs": [],
   "source": [
    "test_ids.to_csv('submission1.csv', index=False)"
   ]
  },
  {
   "cell_type": "markdown",
   "metadata": {},
   "source": [
    "## Results\n",
    "\n",
    "When we submit these results to Kaggle we obtain an accuracy of 69.43%.  This is higher than Kaggle's baseline result but doesn't yet measure up to our expectations for the model.  We will now consider a few further directions that may help us to improve our model's accuracy going forward."
   ]
  },
  {
   "cell_type": "markdown",
   "metadata": {},
   "source": [
    "### Direction #1-- Correcting Class Imbalance\n",
    "\n",
    "One challenge we face from the Airbnb data provided in this problem is the vast asymmetry between the different classes-- 95% of our observations fall into either the US destination or no booking category.  There are a few ways we can potentially go about correcting this problem.\n",
    "\n",
    "1) We can up-sample the minority population\n",
    "\n",
    "2) We can down-sample the majority population\n",
    "\n",
    "3) Change evaluation metric\n",
    "\n",
    "4) Employ Penalization Algorithms"
   ]
  },
  {
   "cell_type": "markdown",
   "metadata": {},
   "source": [
    "### Direction #2-- Ensemble\n",
    "\n",
    "Rather than employ a two-tier approach, we could create a unified ensemble model that treats NDF as its own destination class and utilizes various models to predict outcome.  This approach tends to boost the accuracy at the price of longer runtime. We ended up trying this approach to improve our models, but we saw little improvement in predictive power. Were we to pursue further work with this data, we would experiment with up-sampling minority classes and adusting the class weights to account for the class imbalances."
   ]
  },
  {
   "cell_type": "markdown",
   "metadata": {},
   "source": [
    "### Direction #3-- Use Kaggle as the Validation Set\n",
    "\n",
    "Rather than give up a portion of our data to train our model we can try pooling the entire users set for training and test its out of sample accuracy against the testing set provided by Airbnb.  This allows us to maximize the amount of usable data which can often compensate for a lot of problems."
   ]
  },
  {
   "cell_type": "markdown",
   "metadata": {},
   "source": [
    "## Conclusion\n",
    "\n",
    "As we explore these additional avenues we anticipate being able to exceed our initial baseline to construct a dependable algorithm that services such as Airbnb can use to better serve their customers and provide targeted marketing directly to those most likely to benefit. By finding those most responsive to this business model we can approach an answer to the age-old advertising problem of discovering which users will be receptive to our efforts.\n",
    "\n",
    "After working a bit more with our data and models, we were able to slightly improve our results. These results may be good enough to improve Airbnb's targeted marketing efforts depending on their advertising costs and current accuracy. Our models have around 70% accuracy, so if Airbnb's models are any less accurate then they would benefit from incorporating these models. "
   ]
  },
  {
   "cell_type": "markdown",
   "metadata": {},
   "source": [
    "### Appendix"
   ]
  },
  {
   "cell_type": "markdown",
   "metadata": {},
   "source": [
    "#### XGBoost"
   ]
  },
  {
   "cell_type": "code",
   "execution_count": 72,
   "metadata": {
    "collapsed": true,
    "scrolled": false
   },
   "outputs": [],
   "source": [
    "gridsearch_xgb2 = GridSearchCV(xgb_clf, {'n_estimators':[10,30,60],'max_depth':[3,5,7],'learning_rate':[.01,.05,.1]})\n",
    "%time gridsearch_xgb2.fit(xtrain2, ytrain2)\n",
    "print(\"Best Parameters: {}\".format(gridsearch_xgb2.best_params_))"
   ]
  },
  {
   "cell_type": "code",
   "execution_count": null,
   "metadata": {
    "collapsed": true,
    "scrolled": false
   },
   "outputs": [],
   "source": [
    "xgbclf2_ypredict_train = gridsearch_xgb2.predict(xtrain2)\n",
    "print(\"Test Classification Report:\")\n",
    "xgbclf2_ypredict_test = gridsearch_xgb2.predict(xtest2)\n",
    "print(metrics.classification_report(ytest2, xgbclf2_ypredict_test))\n",
    "\n",
    "print(\"Train Accuracy: {}\\nTest Accuracy: {}\".format(metrics.accuracy_score(ytrain2, xgbclf2_ypredict_train),\n",
    "                                                    metrics.accuracy_score(ytest2, xgbclf2_ypredict_test)))"
   ]
  },
  {
   "cell_type": "markdown",
   "metadata": {},
   "source": [
    "We found that the XGBoost took a very long time to run relative to the other models with little to no accuracy improvement, so we decided not to include it in our final predictions."
   ]
  }
 ],
 "metadata": {
  "kernelspec": {
   "display_name": "Python 3",
   "language": "python",
   "name": "python3"
  },
  "language_info": {
   "codemirror_mode": {
    "name": "ipython",
    "version": 3
   },
   "file_extension": ".py",
   "mimetype": "text/x-python",
   "name": "python",
   "nbconvert_exporter": "python",
   "pygments_lexer": "ipython3",
   "version": "3.6.4"
  }
 },
 "nbformat": 4,
 "nbformat_minor": 2
}
