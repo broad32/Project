{
 "cells": [
  {
   "cell_type": "markdown",
   "metadata": {},
   "source": [
    "\n",
    "## **Project Abstract** ## \n",
    "To help people get started on their project and to make sure you are selecting an appropriate task, we will have all the teams submit an abstract. Please only submit one abstract per team.\n",
    "\n",
    "The abstract should include (at least):\n",
    "\n",
    "-Team members\n",
    "\n",
    "-Problem statement\n",
    "\n",
    "-Data you will use to solve the problem\n",
    "\n",
    "-Outline of how you plan on solving the problem with the data. For example, what pre-processing steps might you need to do, what models, etc.\n",
    "\n",
    "-Supporting documents if necessary citing past research in the area and methods used to solve the problem.\n",
    "\n",
    "-The goal of this abstract is for you to think deeply about the project you will be undertaking and convince yourself (and us) that it is a meaningful and achievable project for this class.\n",
    "\n",
    "This homework is due March 1, 2018 by midnight Utah time. and will be submitted on learning suite."
   ]
  },
  {
   "cell_type": "markdown",
   "metadata": {},
   "source": [
    "# Airbnb New User Bookings"
   ]
  },
  {
   "cell_type": "markdown",
   "metadata": {},
   "source": [
    "## Team Members\n",
    "\n",
    "- Alex Fabiano \n",
    "- Michael Clawson\n",
    "- Elijah Broadbent "
   ]
  },
  {
   "cell_type": "markdown",
   "metadata": {},
   "source": [
    "\n",
    "## Problem Statement\n",
    "\n",
    "\n",
    "\n",
    "With 34,000+ cities across 190+ countries, Airbnb users have a multitude of destinations from which to choose.  This vast array of possibilities creates problems for both users and Airbnb. New users may suffer choice overload and prolong their first booking. Irregular and prolonged first bookings can cause demand lags and inhibit demand predictability for Airbnb.\n",
    "\t\n",
    "The goal of this data project is to accurately predict where new users will book their first Airbnb. This will enable Airbnb to share more personalized content and better forecast demand as well as improve user experience.\n"
   ]
  },
  {
   "cell_type": "markdown",
   "metadata": {},
   "source": [
    "## Data"
   ]
  },
  {
   "cell_type": "markdown",
   "metadata": {},
   "source": [
    "The data for this project comes from four separate files containing age and gender buckets, countries, websession, and a user set.  We will need to join the users and sessions sets into a training set while the remaining sets will serve as supplementary information to inform our data cleaning and analysis."
   ]
  },
  {
   "cell_type": "code",
   "execution_count": 1,
   "metadata": {
    "collapsed": true
   },
   "outputs": [],
   "source": [
    "import pandas as pd\n",
    "import numpy as np"
   ]
  },
  {
   "cell_type": "code",
   "execution_count": 5,
   "metadata": {},
   "outputs": [],
   "source": [
    "test = pd.read_csv('test_users.csv')\n",
    "XY_Age = pd.read_csv('age_gender_bkts.csv') #complicated and messy...consider doing last\n",
    "countries = pd.read_csv('countries.csv')\n",
    "users = pd.read_csv('train_users_2.csv')\n",
    "sessions = pd.read_csv('sessions.csv')"
   ]
  },
  {
   "cell_type": "code",
   "execution_count": 7,
   "metadata": {
    "scrolled": true
   },
   "outputs": [
    {
     "data": {
      "text/plain": [
       "untracked        109232\n",
       "linked            46287\n",
       "omg               43982\n",
       "tracked-other      6156\n",
       "NaN                6065\n",
       "product            1556\n",
       "marketing           139\n",
       "local ops            34\n",
       "Name: first_affiliate_tracked, dtype: int64"
      ]
     },
     "execution_count": 7,
     "metadata": {},
     "output_type": "execute_result"
    }
   ],
   "source": [
    "users.first_affiliate_tracked.value_counts(dropna=False)\n",
    "#Maybe make a binary variable, tracked versus untracked?  Fill NaN's according to probability\n",
    "#numpy.random.choice()"
   ]
  },
  {
   "cell_type": "code",
   "execution_count": 8,
   "metadata": {},
   "outputs": [
    {
     "data": {
      "text/plain": [
       "NDF      124543\n",
       "US        62376\n",
       "other     10094\n",
       "FR         5023\n",
       "IT         2835\n",
       "GB         2324\n",
       "ES         2249\n",
       "CA         1428\n",
       "DE         1061\n",
       "NL          762\n",
       "AU          539\n",
       "PT          217\n",
       "Name: country_destination, dtype: int64"
      ]
     },
     "execution_count": 8,
     "metadata": {},
     "output_type": "execute_result"
    }
   ],
   "source": [
    "users.country_destination.value_counts(dropna=False)"
   ]
  },
  {
   "cell_type": "code",
   "execution_count": 9,
   "metadata": {},
   "outputs": [
    {
     "data": {
      "text/plain": [
       "Chrome                  63845\n",
       "Safari                  45169\n",
       "Firefox                 33655\n",
       "-unknown-               27266\n",
       "IE                      21068\n",
       "Mobile Safari           19274\n",
       "Chrome Mobile            1270\n",
       "Android Browser           851\n",
       "AOL Explorer              245\n",
       "Opera                     188\n",
       "Silk                      124\n",
       "Chromium                   73\n",
       "BlackBerry Browser         53\n",
       "Maxthon                    46\n",
       "IE Mobile                  36\n",
       "Apple Mail                 36\n",
       "Sogou Explorer             33\n",
       "Mobile Firefox             30\n",
       "RockMelt                   24\n",
       "SiteKiosk                  24\n",
       "Iron                       17\n",
       "IceWeasel                  13\n",
       "Pale Moon                  12\n",
       "Yandex.Browser             11\n",
       "SeaMonkey                  11\n",
       "CometBird                  11\n",
       "Camino                      9\n",
       "TenFourFox                  8\n",
       "wOSBrowser                  6\n",
       "CoolNovo                    6\n",
       "Avant Browser               4\n",
       "Opera Mini                  4\n",
       "Mozilla                     3\n",
       "SlimBrowser                 2\n",
       "Crazy Browser               2\n",
       "Flock                       2\n",
       "Opera Mobile                2\n",
       "TheWorld Browser            2\n",
       "OmniWeb                     2\n",
       "Comodo Dragon               2\n",
       "PS Vita browser             1\n",
       "Arora                       1\n",
       "IceDragon                   1\n",
       "NetNewsWire                 1\n",
       "Palm Pre web browser        1\n",
       "Conkeror                    1\n",
       "Googlebot                   1\n",
       "Kindle Browser              1\n",
       "Stainless                   1\n",
       "Outlook 2007                1\n",
       "Epic                        1\n",
       "Google Earth                1\n",
       "Name: first_browser, dtype: int64"
      ]
     },
     "execution_count": 9,
     "metadata": {},
     "output_type": "execute_result"
    }
   ],
   "source": [
    "users.first_browser.value_counts(dropna=False)"
   ]
  },
  {
   "cell_type": "markdown",
   "metadata": {},
   "source": [
    "We can make a dummy for each of these variables."
   ]
  },
  {
   "cell_type": "markdown",
   "metadata": {},
   "source": [
    "Dummies for the major browsers and then an other and an unknown category.  Could maybe group some of the google offshoots/Amazon Offshoots into a category."
   ]
  },
  {
   "cell_type": "code",
   "execution_count": 10,
   "metadata": {},
   "outputs": [
    {
     "data": {
      "text/plain": [
       "Mac Desktop           89600\n",
       "Windows Desktop       72716\n",
       "iPhone                20759\n",
       "iPad                  14339\n",
       "Other/Unknown         10667\n",
       "Android Phone          2803\n",
       "Android Tablet         1292\n",
       "Desktop (Other)        1199\n",
       "SmartPhone (Other)       76\n",
       "Name: first_device_type, dtype: int64"
      ]
     },
     "execution_count": 10,
     "metadata": {},
     "output_type": "execute_result"
    }
   ],
   "source": [
    "users.first_device_type.value_counts(dropna=False)"
   ]
  },
  {
   "cell_type": "markdown",
   "metadata": {},
   "source": [
    "We can create dummies for desktop, Apple, Android, Microsoft, Phone, Android."
   ]
  },
  {
   "cell_type": "markdown",
   "metadata": {},
   "source": [
    "Note that other refers to bookings made to a country not on this list while NDF corresponds to sessions in which no booking was ultimately made."
   ]
  },
  {
   "cell_type": "code",
   "execution_count": 10,
   "metadata": {},
   "outputs": [
    {
     "data": {
      "text/html": [
       "<div>\n",
       "<style>\n",
       "    .dataframe thead tr:only-child th {\n",
       "        text-align: right;\n",
       "    }\n",
       "\n",
       "    .dataframe thead th {\n",
       "        text-align: left;\n",
       "    }\n",
       "\n",
       "    .dataframe tbody tr th {\n",
       "        vertical-align: top;\n",
       "    }\n",
       "</style>\n",
       "<table border=\"1\" class=\"dataframe\">\n",
       "  <thead>\n",
       "    <tr style=\"text-align: right;\">\n",
       "      <th></th>\n",
       "      <th>user_id</th>\n",
       "      <th>action</th>\n",
       "      <th>action_type</th>\n",
       "      <th>action_detail</th>\n",
       "      <th>device_type</th>\n",
       "      <th>secs_elapsed</th>\n",
       "    </tr>\n",
       "  </thead>\n",
       "  <tbody>\n",
       "    <tr>\n",
       "      <th>0</th>\n",
       "      <td>d1mm9tcy42</td>\n",
       "      <td>lookup</td>\n",
       "      <td>NaN</td>\n",
       "      <td>NaN</td>\n",
       "      <td>Windows Desktop</td>\n",
       "      <td>319.0</td>\n",
       "    </tr>\n",
       "    <tr>\n",
       "      <th>1</th>\n",
       "      <td>d1mm9tcy42</td>\n",
       "      <td>search_results</td>\n",
       "      <td>click</td>\n",
       "      <td>view_search_results</td>\n",
       "      <td>Windows Desktop</td>\n",
       "      <td>67753.0</td>\n",
       "    </tr>\n",
       "    <tr>\n",
       "      <th>2</th>\n",
       "      <td>d1mm9tcy42</td>\n",
       "      <td>lookup</td>\n",
       "      <td>NaN</td>\n",
       "      <td>NaN</td>\n",
       "      <td>Windows Desktop</td>\n",
       "      <td>301.0</td>\n",
       "    </tr>\n",
       "    <tr>\n",
       "      <th>3</th>\n",
       "      <td>d1mm9tcy42</td>\n",
       "      <td>search_results</td>\n",
       "      <td>click</td>\n",
       "      <td>view_search_results</td>\n",
       "      <td>Windows Desktop</td>\n",
       "      <td>22141.0</td>\n",
       "    </tr>\n",
       "    <tr>\n",
       "      <th>4</th>\n",
       "      <td>d1mm9tcy42</td>\n",
       "      <td>lookup</td>\n",
       "      <td>NaN</td>\n",
       "      <td>NaN</td>\n",
       "      <td>Windows Desktop</td>\n",
       "      <td>435.0</td>\n",
       "    </tr>\n",
       "  </tbody>\n",
       "</table>\n",
       "</div>"
      ],
      "text/plain": [
       "      user_id          action action_type        action_detail  \\\n",
       "0  d1mm9tcy42          lookup         NaN                  NaN   \n",
       "1  d1mm9tcy42  search_results       click  view_search_results   \n",
       "2  d1mm9tcy42          lookup         NaN                  NaN   \n",
       "3  d1mm9tcy42  search_results       click  view_search_results   \n",
       "4  d1mm9tcy42          lookup         NaN                  NaN   \n",
       "\n",
       "       device_type  secs_elapsed  \n",
       "0  Windows Desktop         319.0  \n",
       "1  Windows Desktop       67753.0  \n",
       "2  Windows Desktop         301.0  \n",
       "3  Windows Desktop       22141.0  \n",
       "4  Windows Desktop         435.0  "
      ]
     },
     "execution_count": 10,
     "metadata": {},
     "output_type": "execute_result"
    }
   ],
   "source": [
    "sessions.head()"
   ]
  },
  {
   "cell_type": "code",
   "execution_count": 71,
   "metadata": {},
   "outputs": [
    {
     "data": {
      "text/html": [
       "<div>\n",
       "<style>\n",
       "    .dataframe thead tr:only-child th {\n",
       "        text-align: right;\n",
       "    }\n",
       "\n",
       "    .dataframe thead th {\n",
       "        text-align: left;\n",
       "    }\n",
       "\n",
       "    .dataframe tbody tr th {\n",
       "        vertical-align: top;\n",
       "    }\n",
       "</style>\n",
       "<table border=\"1\" class=\"dataframe\">\n",
       "  <thead>\n",
       "    <tr style=\"text-align: right;\">\n",
       "      <th></th>\n",
       "      <th>id</th>\n",
       "      <th>date_account_created</th>\n",
       "      <th>timestamp_first_active</th>\n",
       "      <th>date_first_booking</th>\n",
       "      <th>gender</th>\n",
       "      <th>age</th>\n",
       "      <th>signup_method</th>\n",
       "      <th>signup_flow</th>\n",
       "      <th>language</th>\n",
       "      <th>affiliate_channel</th>\n",
       "      <th>...</th>\n",
       "      <th>signup_app</th>\n",
       "      <th>first_device_type</th>\n",
       "      <th>first_browser</th>\n",
       "      <th>country_destination</th>\n",
       "      <th>user_id</th>\n",
       "      <th>action</th>\n",
       "      <th>action_type</th>\n",
       "      <th>action_detail</th>\n",
       "      <th>device_type</th>\n",
       "      <th>secs_elapsed</th>\n",
       "    </tr>\n",
       "  </thead>\n",
       "  <tbody>\n",
       "    <tr>\n",
       "      <th>0</th>\n",
       "      <td>d1mm9tcy42</td>\n",
       "      <td>2014-01-01</td>\n",
       "      <td>20140101000936</td>\n",
       "      <td>2014-01-04</td>\n",
       "      <td>MALE</td>\n",
       "      <td>62.0</td>\n",
       "      <td>basic</td>\n",
       "      <td>0</td>\n",
       "      <td>en</td>\n",
       "      <td>sem-non-brand</td>\n",
       "      <td>...</td>\n",
       "      <td>Web</td>\n",
       "      <td>Windows Desktop</td>\n",
       "      <td>Chrome</td>\n",
       "      <td>other</td>\n",
       "      <td>d1mm9tcy42</td>\n",
       "      <td>lookup</td>\n",
       "      <td>NaN</td>\n",
       "      <td>NaN</td>\n",
       "      <td>Windows Desktop</td>\n",
       "      <td>319.0</td>\n",
       "    </tr>\n",
       "    <tr>\n",
       "      <th>1</th>\n",
       "      <td>d1mm9tcy42</td>\n",
       "      <td>2014-01-01</td>\n",
       "      <td>20140101000936</td>\n",
       "      <td>2014-01-04</td>\n",
       "      <td>MALE</td>\n",
       "      <td>62.0</td>\n",
       "      <td>basic</td>\n",
       "      <td>0</td>\n",
       "      <td>en</td>\n",
       "      <td>sem-non-brand</td>\n",
       "      <td>...</td>\n",
       "      <td>Web</td>\n",
       "      <td>Windows Desktop</td>\n",
       "      <td>Chrome</td>\n",
       "      <td>other</td>\n",
       "      <td>d1mm9tcy42</td>\n",
       "      <td>search_results</td>\n",
       "      <td>click</td>\n",
       "      <td>view_search_results</td>\n",
       "      <td>Windows Desktop</td>\n",
       "      <td>67753.0</td>\n",
       "    </tr>\n",
       "    <tr>\n",
       "      <th>2</th>\n",
       "      <td>d1mm9tcy42</td>\n",
       "      <td>2014-01-01</td>\n",
       "      <td>20140101000936</td>\n",
       "      <td>2014-01-04</td>\n",
       "      <td>MALE</td>\n",
       "      <td>62.0</td>\n",
       "      <td>basic</td>\n",
       "      <td>0</td>\n",
       "      <td>en</td>\n",
       "      <td>sem-non-brand</td>\n",
       "      <td>...</td>\n",
       "      <td>Web</td>\n",
       "      <td>Windows Desktop</td>\n",
       "      <td>Chrome</td>\n",
       "      <td>other</td>\n",
       "      <td>d1mm9tcy42</td>\n",
       "      <td>lookup</td>\n",
       "      <td>NaN</td>\n",
       "      <td>NaN</td>\n",
       "      <td>Windows Desktop</td>\n",
       "      <td>301.0</td>\n",
       "    </tr>\n",
       "    <tr>\n",
       "      <th>3</th>\n",
       "      <td>d1mm9tcy42</td>\n",
       "      <td>2014-01-01</td>\n",
       "      <td>20140101000936</td>\n",
       "      <td>2014-01-04</td>\n",
       "      <td>MALE</td>\n",
       "      <td>62.0</td>\n",
       "      <td>basic</td>\n",
       "      <td>0</td>\n",
       "      <td>en</td>\n",
       "      <td>sem-non-brand</td>\n",
       "      <td>...</td>\n",
       "      <td>Web</td>\n",
       "      <td>Windows Desktop</td>\n",
       "      <td>Chrome</td>\n",
       "      <td>other</td>\n",
       "      <td>d1mm9tcy42</td>\n",
       "      <td>search_results</td>\n",
       "      <td>click</td>\n",
       "      <td>view_search_results</td>\n",
       "      <td>Windows Desktop</td>\n",
       "      <td>22141.0</td>\n",
       "    </tr>\n",
       "    <tr>\n",
       "      <th>4</th>\n",
       "      <td>d1mm9tcy42</td>\n",
       "      <td>2014-01-01</td>\n",
       "      <td>20140101000936</td>\n",
       "      <td>2014-01-04</td>\n",
       "      <td>MALE</td>\n",
       "      <td>62.0</td>\n",
       "      <td>basic</td>\n",
       "      <td>0</td>\n",
       "      <td>en</td>\n",
       "      <td>sem-non-brand</td>\n",
       "      <td>...</td>\n",
       "      <td>Web</td>\n",
       "      <td>Windows Desktop</td>\n",
       "      <td>Chrome</td>\n",
       "      <td>other</td>\n",
       "      <td>d1mm9tcy42</td>\n",
       "      <td>lookup</td>\n",
       "      <td>NaN</td>\n",
       "      <td>NaN</td>\n",
       "      <td>Windows Desktop</td>\n",
       "      <td>435.0</td>\n",
       "    </tr>\n",
       "  </tbody>\n",
       "</table>\n",
       "<p>5 rows × 22 columns</p>\n",
       "</div>"
      ],
      "text/plain": [
       "           id date_account_created  timestamp_first_active date_first_booking  \\\n",
       "0  d1mm9tcy42           2014-01-01          20140101000936         2014-01-04   \n",
       "1  d1mm9tcy42           2014-01-01          20140101000936         2014-01-04   \n",
       "2  d1mm9tcy42           2014-01-01          20140101000936         2014-01-04   \n",
       "3  d1mm9tcy42           2014-01-01          20140101000936         2014-01-04   \n",
       "4  d1mm9tcy42           2014-01-01          20140101000936         2014-01-04   \n",
       "\n",
       "  gender   age signup_method  signup_flow language affiliate_channel  \\\n",
       "0   MALE  62.0         basic            0       en     sem-non-brand   \n",
       "1   MALE  62.0         basic            0       en     sem-non-brand   \n",
       "2   MALE  62.0         basic            0       en     sem-non-brand   \n",
       "3   MALE  62.0         basic            0       en     sem-non-brand   \n",
       "4   MALE  62.0         basic            0       en     sem-non-brand   \n",
       "\n",
       "      ...      signup_app first_device_type first_browser country_destination  \\\n",
       "0     ...             Web   Windows Desktop        Chrome               other   \n",
       "1     ...             Web   Windows Desktop        Chrome               other   \n",
       "2     ...             Web   Windows Desktop        Chrome               other   \n",
       "3     ...             Web   Windows Desktop        Chrome               other   \n",
       "4     ...             Web   Windows Desktop        Chrome               other   \n",
       "\n",
       "      user_id          action action_type        action_detail  \\\n",
       "0  d1mm9tcy42          lookup         NaN                  NaN   \n",
       "1  d1mm9tcy42  search_results       click  view_search_results   \n",
       "2  d1mm9tcy42          lookup         NaN                  NaN   \n",
       "3  d1mm9tcy42  search_results       click  view_search_results   \n",
       "4  d1mm9tcy42          lookup         NaN                  NaN   \n",
       "\n",
       "       device_type secs_elapsed  \n",
       "0  Windows Desktop        319.0  \n",
       "1  Windows Desktop      67753.0  \n",
       "2  Windows Desktop        301.0  \n",
       "3  Windows Desktop      22141.0  \n",
       "4  Windows Desktop        435.0  \n",
       "\n",
       "[5 rows x 22 columns]"
      ]
     },
     "execution_count": 71,
     "metadata": {},
     "output_type": "execute_result"
    }
   ],
   "source": [
    "joined = pd.merge(users, sessions, left_on='id', right_on='user_id', how='inner')\n",
    "joined.head()"
   ]
  },
  {
   "cell_type": "code",
   "execution_count": 72,
   "metadata": {},
   "outputs": [
    {
     "name": "stdout",
     "output_type": "stream",
     "text": [
      "Joined Length: 5537957\tSessions Length: 10567737\tUsers Length: 213451\n"
     ]
    }
   ],
   "source": [
    "print(\"Joined Length: {}\\tSessions Length: {}\\tUsers Length: {}\".format(len(joined), len(sessions), len(users)))"
   ]
  },
  {
   "cell_type": "code",
   "execution_count": 23,
   "metadata": {},
   "outputs": [
    {
     "data": {
      "text/plain": [
       "count        5537957\n",
       "unique         73815\n",
       "top       0hjoc5q8nf\n",
       "freq            2644\n",
       "Name: id, dtype: object"
      ]
     },
     "execution_count": 23,
     "metadata": {},
     "output_type": "execute_result"
    }
   ],
   "source": [
    "joined.id.describe() #there are 73,815 matching users between the sessions and users files"
   ]
  },
  {
   "cell_type": "code",
   "execution_count": 75,
   "metadata": {},
   "outputs": [
    {
     "data": {
      "text/plain": [
       "id                                 object\n",
       "date_account_created               object\n",
       "timestamp_first_active              int64\n",
       "date_first_booking         datetime64[ns]\n",
       "gender                             object\n",
       "age                               float64\n",
       "signup_method                      object\n",
       "signup_flow                         int64\n",
       "language                           object\n",
       "affiliate_channel                  object\n",
       "affiliate_provider                 object\n",
       "first_affiliate_tracked            object\n",
       "signup_app                         object\n",
       "first_device_type                  object\n",
       "first_browser                      object\n",
       "country_destination                object\n",
       "user_id                            object\n",
       "action                             object\n",
       "action_type                        object\n",
       "action_detail                      object\n",
       "device_type                        object\n",
       "secs_elapsed                      float64\n",
       "dtype: object"
      ]
     },
     "execution_count": 75,
     "metadata": {},
     "output_type": "execute_result"
    }
   ],
   "source": [
    "joined.dtypes"
   ]
  },
  {
   "cell_type": "code",
   "execution_count": 55,
   "metadata": {},
   "outputs": [
    {
     "data": {
      "text/plain": [
       "NaT           3057710\n",
       "2014-06-11      26954\n",
       "2014-06-25      22184\n",
       "2014-06-10      21829\n",
       "2014-05-22      21540\n",
       "2014-06-13      21442\n",
       "2014-06-24      21220\n",
       "2014-05-02      21109\n",
       "2014-05-08      21057\n",
       "2014-06-27      19882\n",
       "2014-05-28      19756\n",
       "2014-06-05      19151\n",
       "2014-06-12      19061\n",
       "2014-06-06      18584\n",
       "2014-06-20      18202\n",
       "2014-05-21      18130\n",
       "2014-06-23      17979\n",
       "2014-06-26      17951\n",
       "2014-05-14      17843\n",
       "2014-05-15      17690\n",
       "2014-05-20      17563\n",
       "2014-06-03      17194\n",
       "2014-06-16      16963\n",
       "2014-06-09      16815\n",
       "2014-05-13      16571\n",
       "2014-06-29      16514\n",
       "2014-06-15      16464\n",
       "2014-06-30      16455\n",
       "2014-04-28      16324\n",
       "2014-04-03      16279\n",
       "               ...   \n",
       "2014-10-18        254\n",
       "2015-06-18        248\n",
       "2015-05-08        241\n",
       "2015-05-17        231\n",
       "2015-05-10        231\n",
       "2015-05-26        225\n",
       "2015-04-05        217\n",
       "2015-06-11        215\n",
       "2015-05-16        209\n",
       "2015-04-26        206\n",
       "2015-05-05        197\n",
       "2015-05-22        177\n",
       "2015-06-02        146\n",
       "2015-05-24        145\n",
       "2015-06-17        137\n",
       "2015-01-18        133\n",
       "2015-04-19        126\n",
       "2015-06-07        120\n",
       "2015-06-08        118\n",
       "2015-06-06        105\n",
       "2015-05-28         77\n",
       "2015-06-14         74\n",
       "2015-06-09         61\n",
       "2015-05-18         46\n",
       "2015-06-12         28\n",
       "2015-06-28         28\n",
       "2015-06-23         20\n",
       "2015-06-26         17\n",
       "2015-06-25         14\n",
       "2015-06-29         11\n",
       "Name: date_first_booking, Length: 539, dtype: int64"
      ]
     },
     "execution_count": 55,
     "metadata": {},
     "output_type": "execute_result"
    }
   ],
   "source": [
    "joined.date_first_booking.value_counts(dropna=False) #need to extract month as variable"
   ]
  },
  {
   "cell_type": "code",
   "execution_count": 74,
   "metadata": {},
   "outputs": [],
   "source": [
    "joined.date_first_booking = pd.to_datetime(joined.date_first_booking) #Casts object as datetime"
   ]
  },
  {
   "cell_type": "code",
   "execution_count": 76,
   "metadata": {},
   "outputs": [],
   "source": [
    "joined['day_of_week_1stbook'] = joined.date_first_booking.dt.weekday #Create indicators for day of week (0=Mon, 6=Sun)"
   ]
  },
  {
   "cell_type": "markdown",
   "metadata": {},
   "source": [
    "# Project Research"
   ]
  },
  {
   "cell_type": "markdown",
   "metadata": {},
   "source": [
    "Based on the other Kaggle kernels for this project, a few different methods have been used to predict first booking location for new Airbnb users. Some competitors utilized the ensemble technique, incorporating up to three layers. One kaggler implemented a three tiered ensemble with six different models in each layer (Support Vector Machines, Logistic Regression, Random Forest, Gradient Boosting, Extra Trees Classifier, and K-Nearest Neighbors). Another kaggler coded a Normalized Discounted Cumulative Gain model, or NDCG, which is a type of ranking measure. This model relies on a logarithmic discounting factor and has achieved significant empirical results. However, little is known about the theoretical properties of NDCG models. Further information can be found at https://arxiv.org/abs/1304.6480 ."
   ]
  },
  {
   "cell_type": "markdown",
   "metadata": {},
   "source": [
    "# Strategy"
   ]
  },
  {
   "cell_type": "raw",
   "metadata": {},
   "source": []
  },
  {
   "cell_type": "markdown",
   "metadata": {},
   "source": [
    "After merging our data and doing a minimal amount of initial cleaning, we will use a K-Neighbors Classifier to get a naive baseline for our classification problem.  From there we will modify our cleaning as needed to account for outliers, missing data, and optimal control variables in a more robust fashion.  Other models we plan to consult include Random Forest, regression, and Gradient Boosting.  Depending on the results we obtain from these methods we can complicate our approach using tiered-ensembles of multiple models."
   ]
  },
  {
   "cell_type": "code",
   "execution_count": null,
   "metadata": {
    "collapsed": true
   },
   "outputs": [],
   "source": []
  }
 ],
 "metadata": {
  "kernelspec": {
   "display_name": "Python 3",
   "language": "python",
   "name": "python3"
  },
  "language_info": {
   "codemirror_mode": {
    "name": "ipython",
    "version": 3
   },
   "file_extension": ".py",
   "mimetype": "text/x-python",
   "name": "python",
   "nbconvert_exporter": "python",
   "pygments_lexer": "ipython3",
   "version": "3.6.4"
  }
 },
 "nbformat": 4,
 "nbformat_minor": 2
}
